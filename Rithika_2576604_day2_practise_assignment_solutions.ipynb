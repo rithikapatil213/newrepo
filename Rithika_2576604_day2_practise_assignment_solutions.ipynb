{
 "cells": [
  {
   "cell_type": "markdown",
   "id": "1525dbc3",
   "metadata": {},
   "source": [
    "# 1. Write a python Function to list even and odd numbers in a list."
   ]
  },
  {
   "cell_type": "code",
   "execution_count": 1,
   "id": "57e53b58",
   "metadata": {},
   "outputs": [
    {
     "name": "stdout",
     "output_type": "stream",
     "text": [
      "Even numbers: [2, 4, 6, 8]\n",
      "Odd numbers: [1, 3, 5, 7, 9]\n"
     ]
    }
   ],
   "source": [
    "def separate_even_odd(numbers):\n",
    "    even_numbers = []\n",
    "    odd_numbers = []\n",
    "    \n",
    "    for num in numbers:\n",
    "        if num % 2 == 0:\n",
    "            even_numbers.append(num)\n",
    "        else:\n",
    "            odd_numbers.append(num)\n",
    "    \n",
    "    return even_numbers, odd_numbers\n",
    "\n",
    "numbers_list = [1, 2, 3, 4, 5, 6, 7, 8, 9]\n",
    "even, odd = separate_even_odd(numbers_list)\n",
    "\n",
    "print(\"Even numbers:\", even)\n",
    "print(\"Odd numbers:\", odd)"
   ]
  },
  {
   "cell_type": "markdown",
   "id": "73a89cc6",
   "metadata": {},
   "source": [
    "# 2. Write and run a Python program that asks the user to enter 8 integers (one at a time), and then prints out how many of those integers were even numbers. For example, if the user entered 19, 6, 9, 20, 13, 7, 6, and 1, then your program should print out 3 since 3 of those numbers were even."
   ]
  },
  {
   "cell_type": "code",
   "execution_count": 2,
   "id": "e1c7c00c",
   "metadata": {},
   "outputs": [
    {
     "name": "stdout",
     "output_type": "stream",
     "text": [
      "Enter integer 1: 23\n",
      "Enter integer 2: 22\n",
      "Enter integer 3: 12\n",
      "Enter integer 4: 54\n",
      "Enter integer 5: 56\n",
      "Enter integer 6: 34\n",
      "Enter integer 7: 26\n",
      "Enter integer 8: 67\n",
      "Number of even integers entered: 6\n"
     ]
    }
   ],
   "source": [
    "even_count = 0\n",
    "\n",
    "for i in range(8):\n",
    "    try:\n",
    "        num = int(input(f\"Enter integer {i+1}: \"))\n",
    "\n",
    "        if num % 2 == 0:\n",
    "            even_count += 1\n",
    "    except ValueError:\n",
    "        print(\"Invalid input. Please enter an integer.\")\n",
    "\n",
    "print(f\"Number of even integers entered: {even_count}\")"
   ]
  },
  {
   "cell_type": "markdown",
   "id": "b77a94e0",
   "metadata": {},
   "source": [
    "# 3. Write a Python program where you take any positive integer n, if n is even, divide it by 2 to get n/ 2. If n is odd, multiply it by 3 and add 1 to obtain 3n+ 1. Repeat the process until you reach 1."
   ]
  },
  {
   "cell_type": "code",
   "execution_count": 17,
   "id": "246b5598",
   "metadata": {},
   "outputs": [
    {
     "name": "stdout",
     "output_type": "stream",
     "text": [
      "Enter a positive integer: 23\n",
      "23 70 35 106 53 160 80 40 20 10 5 16 8 4 2 1\n"
     ]
    }
   ],
   "source": [
    "def collatz_sequence(n):\n",
    "    while n != 1:\n",
    "        print(n, end=' ')\n",
    "        if n % 2 == 0:\n",
    "            n = n // 2  \n",
    "        else:\n",
    "            n = 3 * n + 1  \n",
    "    \n",
    "    print(1)  \n",
    "\n",
    "try:\n",
    "    n = int(input(\"Enter a positive integer: \"))\n",
    "    \n",
    "    if n <= 0:\n",
    "        print(\"Please enter a positive integer greater than 0.\")\n",
    "    else:\n",
    "        collatz_sequence(n)\n",
    "except ValueError:\n",
    "    print(\"Invalid input. Please enter a positive integer.\")"
   ]
  },
  {
   "cell_type": "markdown",
   "id": "fce6a87a",
   "metadata": {},
   "source": [
    "# 4. Write a Python program to compute the sum of all the multiples of 3 or 5 below 500."
   ]
  },
  {
   "cell_type": "code",
   "execution_count": 19,
   "id": "7f15fe35",
   "metadata": {},
   "outputs": [
    {
     "name": "stdout",
     "output_type": "stream",
     "text": [
      "Sum of multiples of 3 or 5 below 500: 57918\n"
     ]
    }
   ],
   "source": [
    "total_sum = 0\n",
    "\n",
    "for num in range(1, 500):\n",
    "    if num % 3 == 0 or num % 5 == 0:\n",
    "        total_sum += num\n",
    "\n",
    "print(\"Sum of multiples of 3 or 5 below 500:\", total_sum)"
   ]
  },
  {
   "cell_type": "markdown",
   "id": "29a73696",
   "metadata": {},
   "source": [
    "# 5. To write a Python program to find first 'n' prime numbers from a list of given numbers."
   ]
  },
  {
   "cell_type": "code",
   "execution_count": 5,
   "id": "5a0a6f2f",
   "metadata": {},
   "outputs": [
    {
     "name": "stdout",
     "output_type": "stream",
     "text": [
      "The first 5 prime numbers from the given list are: [2, 3, 5, 7, 11]\n"
     ]
    }
   ],
   "source": [
    "def is_prime(num):\n",
    "    if num <= 1:\n",
    "        return False\n",
    "    if num == 2:\n",
    "        return True\n",
    "    if num % 2 == 0:\n",
    "        return False\n",
    "    \n",
    "    for i in range(3, int(num**0.5) + 1, 2):\n",
    "        if num % i == 0:\n",
    "            return False\n",
    "    \n",
    "    return True\n",
    "\n",
    "def find_first_n_primes(numbers, n):\n",
    "    prime_numbers = []\n",
    "    for num in numbers:\n",
    "        if is_prime(num):\n",
    "            prime_numbers.append(num)\n",
    "            if len(prime_numbers) == n:\n",
    "                break\n",
    "    \n",
    "    return prime_numbers\n",
    "\n",
    "\n",
    "given_numbers = [2, 3, 5, 7, 9, 11, 13, 17, 19, 23, 29]\n",
    "n = 5\n",
    "prime_list = find_first_n_primes(given_numbers, n)\n",
    "\n",
    "print(f\"The first {n} prime numbers from the given list are:\", prime_list)"
   ]
  },
  {
   "cell_type": "markdown",
   "id": "a8263234",
   "metadata": {},
   "source": [
    "# 6. To write a Python program to compute matrix multiplication. "
   ]
  },
  {
   "cell_type": "code",
   "execution_count": 18,
   "id": "0705cca7",
   "metadata": {},
   "outputs": [
    {
     "name": "stdout",
     "output_type": "stream",
     "text": [
      "[30, 24, 18]\n",
      "[84, 69, 54]\n",
      "[138, 114, 90]\n"
     ]
    }
   ],
   "source": [
    "matrix1 = [\n",
    "    [1, 2, 3],\n",
    "    [4, 5, 6],\n",
    "    [7, 8, 9]\n",
    "]\n",
    "\n",
    "matrix2 = [\n",
    "    [9, 8, 7],\n",
    "    [6, 5, 4],\n",
    "    [3, 2, 1]\n",
    "]\n",
    "\n",
    "result = [[0, 0, 0],\n",
    "          [0, 0, 0],\n",
    "          [0, 0, 0]]\n",
    "\n",
    "for i in range(len(matrix1)):\n",
    "    for j in range(len(matrix2[0])):\n",
    "        for k in range(len(matrix2)):\n",
    "            result[i][j] += matrix1[i][k] * matrix2[k][j]\n",
    "\n",
    "for row in result:\n",
    "    print(row)"
   ]
  },
  {
   "cell_type": "markdown",
   "id": "a5cb2a8e",
   "metadata": {},
   "source": [
    "# 7. Write a python Function to count the number of vowels in a string."
   ]
  },
  {
   "cell_type": "code",
   "execution_count": 7,
   "id": "f2927ca1",
   "metadata": {},
   "outputs": [
    {
     "name": "stdout",
     "output_type": "stream",
     "text": [
      "Number of vowels in the string: 3\n"
     ]
    }
   ],
   "source": [
    "def count_vowels(input_string):\n",
    "    vowel_count = 0\n",
    "    vowels = set(\"aeiouAEIOU\")\n",
    "    \n",
    "    for char in input_string:\n",
    "        if char in vowels:\n",
    "            vowel_count += 1\n",
    "    \n",
    "    return vowel_count\n",
    "\n",
    "input_string = \"Hello, World!\"\n",
    "result = count_vowels(input_string)\n",
    "\n",
    "print(\"Number of vowels in the string:\", result)"
   ]
  },
  {
   "cell_type": "markdown",
   "id": "1f432ecb",
   "metadata": {},
   "source": [
    "# 8. Write a python Function for finding factorial for the given number using a recursive function"
   ]
  },
  {
   "cell_type": "code",
   "execution_count": 8,
   "id": "9d024b1e",
   "metadata": {},
   "outputs": [
    {
     "name": "stdout",
     "output_type": "stream",
     "text": [
      "The factorial of 5 is 120\n"
     ]
    }
   ],
   "source": [
    "def factorial_recursive(n):\n",
    "    if n == 0 or n == 1:\n",
    "        return 1\n",
    "    else:\n",
    "        return n * factorial_recursive(n - 1)\n",
    "\n",
    "number = 5\n",
    "result = factorial_recursive(number)\n",
    "print(f\"The factorial of {number} is {result}\")"
   ]
  },
  {
   "cell_type": "markdown",
   "id": "063665aa",
   "metadata": {},
   "source": [
    "# 9. Write a python Function for generating the Fibonacci series using the function."
   ]
  },
  {
   "cell_type": "code",
   "execution_count": 9,
   "id": "6fb37fcc",
   "metadata": {},
   "outputs": [
    {
     "name": "stdout",
     "output_type": "stream",
     "text": [
      "Fibonacci(0) = 0\n",
      "Fibonacci(1) = 1\n",
      "Fibonacci(2) = 1\n",
      "Fibonacci(3) = 2\n",
      "Fibonacci(4) = 3\n",
      "Fibonacci(5) = 5\n",
      "Fibonacci(6) = 8\n",
      "Fibonacci(7) = 13\n",
      "Fibonacci(8) = 21\n",
      "Fibonacci(9) = 34\n"
     ]
    }
   ],
   "source": [
    "def fibonacci_recursive(n):\n",
    "    if n == 0:\n",
    "        return 0\n",
    "    elif n == 1:\n",
    "        return 1\n",
    "    else:\n",
    "        return fibonacci_recursive(n - 1) + fibonacci_recursive(n - 2)\n",
    "\n",
    "terms = 10  \n",
    "for i in range(terms):\n",
    "    result = fibonacci_recursive(i)\n",
    "    print(f\"Fibonacci({i}) = {result}\")"
   ]
  },
  {
   "cell_type": "markdown",
   "id": "faa0b0b2",
   "metadata": {},
   "source": [
    "# 9. Write a python Function for generating the Fibonacci series using the function."
   ]
  },
  {
   "cell_type": "code",
   "execution_count": 20,
   "id": "c2fc01db",
   "metadata": {},
   "outputs": [
    {
     "name": "stdout",
     "output_type": "stream",
     "text": [
      "[0, 1, 1, 2, 3, 5, 8, 13, 21, 34]\n"
     ]
    }
   ],
   "source": [
    "def generate_fibonacci(n):\n",
    "    fib_series = [0, 1]\n",
    "    while len(fib_series) < n:\n",
    "        next_term = fib_series[-1] + fib_series[-2]\n",
    "        fib_series.append(next_term)\n",
    "\n",
    "    return fib_series\n",
    "\n",
    "n = 10  \n",
    "fibonacci_sequence = generate_fibonacci(n)\n",
    "print(fibonacci_sequence)"
   ]
  },
  {
   "cell_type": "markdown",
   "id": "dd4fde0a",
   "metadata": {},
   "source": [
    "# 10. Python program to display the given integer in reverse order using the function without an in-built function."
   ]
  },
  {
   "cell_type": "code",
   "execution_count": 21,
   "id": "8a9a8b22",
   "metadata": {},
   "outputs": [
    {
     "name": "stdout",
     "output_type": "stream",
     "text": [
      "Original: 12345\n",
      "Reversed: 54321\n"
     ]
    }
   ],
   "source": [
    "def reverse_integer(num):\n",
    "    if num < 0:\n",
    "        num_str = '-' + str(-num)\n",
    "    else:\n",
    "        num_str = str(num)\n",
    "\n",
    "    reversed_str = num_str[::-1]\n",
    "\n",
    "    return int(reversed_str) \n",
    "\n",
    "input_num = 12345  \n",
    "reversed_num = reverse_integer(input_num)\n",
    "print(\"Original:\", input_num)\n",
    "print(\"Reversed:\", reversed_num)"
   ]
  },
  {
   "cell_type": "markdown",
   "id": "97522a2d",
   "metadata": {},
   "source": [
    "# 11. Write a Python Function to display all integers within the range 200-300 whose sum of digits is an even number."
   ]
  },
  {
   "cell_type": "code",
   "execution_count": 23,
   "id": "94b20562",
   "metadata": {},
   "outputs": [
    {
     "name": "stdout",
     "output_type": "stream",
     "text": [
      "Integers with even sum of digits in the range 200-300:\n",
      "[200, 202, 204, 206, 208, 211, 213, 215, 217, 219, 220, 222, 224, 226, 228, 231, 233, 235, 237, 239, 240, 242, 244, 246, 248, 251, 253, 255, 257, 259, 260, 262, 264, 266, 268, 271, 273, 275, 277, 279, 280, 282, 284, 286, 288, 291, 293, 295, 297, 299]\n"
     ]
    }
   ],
   "source": [
    "def sum_of_digits_even(num):\n",
    "    digit_sum = sum(int(digit) for digit in str(num))\n",
    "    \n",
    "    return digit_sum % 2 == 0\n",
    "\n",
    "def find_integers_with_even_digit_sum(start, end):\n",
    "    result = []\n",
    "    \n",
    "    for num in range(start, end + 1):\n",
    "        if sum_of_digits_even(num):\n",
    "            result.append(num)\n",
    "    \n",
    "    return result\n",
    "\n",
    "start_range = 200\n",
    "end_range = 300\n",
    "result_list = find_integers_with_even_digit_sum(start_range, end_range)\n",
    "print(\"Integers with even sum of digits in the range {}-{}:\".format(start_range, end_range))\n",
    "print(result_list)"
   ]
  },
  {
   "cell_type": "markdown",
   "id": "c44c673a",
   "metadata": {},
   "source": [
    "# 12. Write a python Function to find the number of digits and sum of digits for a given integer"
   ]
  },
  {
   "cell_type": "code",
   "execution_count": 22,
   "id": "788f81f5",
   "metadata": {},
   "outputs": [
    {
     "name": "stdout",
     "output_type": "stream",
     "text": [
      "Number of digits: 5\n",
      "Sum of digits: 15\n"
     ]
    }
   ],
   "source": [
    "def count_digits_and_sum(num):\n",
    "    digit_count = 0\n",
    "    digit_sum = 0\n",
    "\n",
    "    num = abs(num)\n",
    "    while num > 0:\n",
    "        digit = num % 10\n",
    "\n",
    "        digit_count += 1\n",
    "        digit_sum += digit\n",
    "\n",
    "        num //= 10\n",
    "\n",
    "    return digit_count, digit_sum\n",
    "\n",
    "input_num = 12345 \n",
    "num_digits, sum_of_digits = count_digits_and_sum(input_num)\n",
    "print(\"Number of digits:\", num_digits)\n",
    "print(\"Sum of digits:\", sum_of_digits)"
   ]
  },
  {
   "cell_type": "markdown",
   "id": "c51bc61e",
   "metadata": {},
   "source": [
    "# 13. Write functions called is_sorted that takes a list as a parameter and returns True if the list is sorted in ascending order and False otherwise and has_ duplicates that takes a list and returns True if there is any element that appears more than once. It should not modify the original list."
   ]
  },
  {
   "cell_type": "code",
   "execution_count": 24,
   "id": "a73c1f54",
   "metadata": {},
   "outputs": [
    {
     "name": "stdout",
     "output_type": "stream",
     "text": [
      "Does the list have duplicates: True\n"
     ]
    }
   ],
   "source": [
    "def has_duplicates(arr):\n",
    "    seen = set()\n",
    "    for element in arr:\n",
    "        if element in seen:\n",
    "            return True\n",
    "        seen.add(element)\n",
    "\n",
    "    return False\n",
    "my_list = [1, 2, 3, 4, 5, 2]  \n",
    "duplicates_result = has_duplicates(my_list)\n",
    "print(\"Does the list have duplicates:\", duplicates_result)"
   ]
  },
  {
   "cell_type": "markdown",
   "id": "cce93dba",
   "metadata": {},
   "source": [
    "# 14. Write functions called nested sum that takes a list of integers and adds up the elements from all the nested lists and cumsum that takes a list of numbers and returns the cumulative sum; that is, a new list where the ith element is the sum of the first i + 1 elements from the original list."
   ]
  },
  {
   "cell_type": "code",
   "execution_count": 26,
   "id": "a0bf5d8c",
   "metadata": {},
   "outputs": [
    {
     "name": "stdout",
     "output_type": "stream",
     "text": [
      "Sum of elements in nested list: 28\n",
      "Cumulative sum: [1, 3, 6, 10, 15]\n"
     ]
    }
   ],
   "source": [
    "def nested_sum(lst):\n",
    "    total = 0\n",
    "    for sublist in lst:\n",
    "        if isinstance(sublist, list):\n",
    "            total += nested_sum(sublist)\n",
    "        else:\n",
    "            total += sublist\n",
    "    return total\n",
    "\n",
    "my_list = [1, 2, [3, 4], [5, [6, 7]]] \n",
    "result = nested_sum(my_list)\n",
    "print(\"Sum of elements in nested list:\", result)\n",
    "\n",
    "def cumsum(lst):\n",
    "    cumulative_sum = []\n",
    "    current_sum = 0\n",
    "    for num in lst:\n",
    "        current_sum += num\n",
    "        cumulative_sum.append(current_sum)\n",
    "    return cumulative_sum\n",
    "\n",
    "my_list = [1, 2, 3, 4, 5] \n",
    "result = cumsum(my_list)\n",
    "print(\"Cumulative sum:\", result)"
   ]
  }
 ],
 "metadata": {
  "kernelspec": {
   "display_name": "Python 3 (ipykernel)",
   "language": "python",
   "name": "python3"
  },
  "language_info": {
   "codemirror_mode": {
    "name": "ipython",
    "version": 3
   },
   "file_extension": ".py",
   "mimetype": "text/x-python",
   "name": "python",
   "nbconvert_exporter": "python",
   "pygments_lexer": "ipython3",
   "version": "3.11.4"
  }
 },
 "nbformat": 4,
 "nbformat_minor": 5
}
