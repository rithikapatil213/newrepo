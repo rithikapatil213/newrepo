{
 "cells": [
  {
   "cell_type": "code",
   "execution_count": 1,
   "id": "675f17ed",
   "metadata": {},
   "outputs": [
    {
     "name": "stdout",
     "output_type": "stream",
     "text": [
      "Day 4\n"
     ]
    }
   ],
   "source": [
    "print(\"Day 4\")"
   ]
  },
  {
   "cell_type": "markdown",
   "id": "2815e577",
   "metadata": {},
   "source": [
    "# 1. Write a python program with Exception handling to input marks for five subjects Physics, Chemistry, Biology, Mathematics, and Computer. Calculate the percentage and grade according to the following:\n",
    "\n",
    "i) Percentage >= 90%: Grade A\n",
    "\n",
    "ii) Percentage >= 80%: Grade B\n",
    "\n",
    "Percentage >= 70%: Grade C\n",
    "\n",
    "iv) Percentage >= 60%: Grade D\n",
    "\n",
    "v) Percentage >= 40%: Grade E\n",
    "\n",
    "vi) Percentage <40%: Grade F"
   ]
  },
  {
   "cell_type": "code",
   "execution_count": 4,
   "id": "0237f731",
   "metadata": {},
   "outputs": [
    {
     "name": "stdout",
     "output_type": "stream",
     "text": [
      "Enter Physics marks: 25\n",
      "Enter Chemistry marks: 56\n",
      "Enter Biology marks: 67\n",
      "Enter Mathematics marks: 66\n",
      "Enter Computer marks: 78\n",
      "Percentage: 58.40%\n",
      "Grade: E\n"
     ]
    }
   ],
   "source": [
    "try:\n",
    "    physics = float(input(\"Enter Physics marks: \"))\n",
    "    chemistry = float(input(\"Enter Chemistry marks: \"))\n",
    "    biology = float(input(\"Enter Biology marks: \"))\n",
    "    mathematics = float(input(\"Enter Mathematics marks: \"))\n",
    "    computer = float(input(\"Enter Computer marks: \"))\n",
    "    \n",
    "    total_marks = physics + chemistry + biology + mathematics + computer\n",
    "    percentage = (total_marks / 500) * 100\n",
    "    \n",
    "    if percentage >= 90:\n",
    "        grade = \"A\"\n",
    "    elif percentage >= 80:\n",
    "        grade = \"B\"\n",
    "    elif percentage >= 70:\n",
    "        grade = \"C\"\n",
    "    elif percentage >= 60:\n",
    "        grade = \"D\"\n",
    "    elif percentage >= 40:\n",
    "        grade = \"E\"\n",
    "    else:\n",
    "        grade = \"F\"\n",
    "        \n",
    "    print(f\"Percentage: {percentage:.2f}%\")\n",
    "    print(f\"Grade: {grade}\")\n",
    "\n",
    "except ValueError:\n",
    "    print(\"Invalid input. Please enter valid numerical marks for each subject.\")\n",
    "except Exception as e:\n",
    "    print(f\"An error occurred: {str(e)}\")"
   ]
  },
  {
   "cell_type": "markdown",
   "id": "907623ca",
   "metadata": {},
   "source": [
    "# 2. Write a python program with Exception handling to input electricity unit charges and calculate the total electricity bill according to the given condition:\n",
    "\n",
    "i) For the first 50 units Rs. 0.50/unit\n",
    "\n",
    "ii) For the next 100 units Rs. 0.75/unit\n",
    "\n",
    "For the next 100 units Rs. 1.20/unit\n",
    "\n",
    "iv) For units above 250 Rs. 1.50/unit\n",
    "\n",
    "v) An additional surcharge of 20% is added to the bill."
   ]
  },
  {
   "cell_type": "code",
   "execution_count": 8,
   "id": "fb7d930e",
   "metadata": {},
   "outputs": [
    {
     "name": "stdout",
     "output_type": "stream",
     "text": [
      "Enter electricity unit charges: two\n",
      "Invalid input: could not convert string to float: 'two'. Please enter valid numerical unit charges.\n",
      "Enter electricity unit charges: 450\n",
      "Total Electricity Bill: Rs. 624.00\n"
     ]
    }
   ],
   "source": [
    "while True:\n",
    "    try:\n",
    "        units = float(input(\"Enter electricity unit charges: \"))\n",
    "\n",
    "        if units < 0:\n",
    "            raise ValueError(\"Electricity units cannot be negative.\")\n",
    "\n",
    "        total_bill = 0\n",
    "        surcharge_percentage = 20\n",
    "\n",
    "        if units <= 50:\n",
    "            total_bill = units * 0.50\n",
    "        elif units <= 150:\n",
    "            total_bill = 50 * 0.50 + (units - 50) * 0.75\n",
    "        elif units <= 250:\n",
    "            total_bill = 50 * 0.50 + 100 * 0.75 + (units - 150) * 1.20\n",
    "        else:\n",
    "            total_bill = 50 * 0.50 + 100 * 0.75 + 100 * 1.20 + (units - 250) * 1.50\n",
    "\n",
    "        surcharge_amount = (surcharge_percentage / 100) * total_bill\n",
    "\n",
    "        total_bill += surcharge_amount\n",
    "\n",
    "        print(f\"Total Electricity Bill: Rs. {total_bill:.2f}\")\n",
    "\n",
    "        break\n",
    "\n",
    "    except ValueError as ve:\n",
    "        print(f\"Invalid input: {ve}. Please enter valid numerical unit charges.\")\n",
    "    except Exception as e:\n",
    "        print(f\"An error occurred: {str(e)}\")"
   ]
  },
  {
   "cell_type": "markdown",
   "id": "757c1edf",
   "metadata": {},
   "source": [
    "# 3. Write a python program with Exception handling to input the week number and print the weekday."
   ]
  },
  {
   "cell_type": "code",
   "execution_count": 10,
   "id": "63894a19",
   "metadata": {
    "scrolled": true
   },
   "outputs": [
    {
     "name": "stdout",
     "output_type": "stream",
     "text": [
      "Enter the week number (1-7): 8\n",
      "Invalid input: Week number should be between 1 and 7.. Please enter a valid week number (1-7).\n",
      "Enter the week number (1-7): two\n",
      "Invalid input: invalid literal for int() with base 10: 'two'. Please enter a valid week number (1-7).\n",
      "Enter the week number (1-7): 6\n",
      "Weekday for week number 6 is Saturday\n"
     ]
    }
   ],
   "source": [
    "while True:\n",
    "    try:\n",
    "        week_number = int(input(\"Enter the week number (1-7): \"))\n",
    "\n",
    "        if week_number < 1 or week_number > 7:\n",
    "            raise ValueError(\"Week number should be between 1 and 7.\")\n",
    "\n",
    "        weekdays = [\"Monday\", \"Tuesday\", \"Wednesday\", \"Thursday\", \"Friday\", \"Saturday\", \"Sunday\"]\n",
    "\n",
    "        print(f\"Weekday for week number {week_number} is {weekdays[week_number - 1]}\")\n",
    "\n",
    "        break\n",
    "\n",
    "    except ValueError as ve:\n",
    "        print(f\"Invalid input: {ve}. Please enter a valid week number (1-7).\")\n",
    "    except Exception as e:\n",
    "        print(f\"An error occurred: {str(e)}\")"
   ]
  },
  {
   "cell_type": "markdown",
   "id": "792ce34a",
   "metadata": {},
   "source": [
    "# 4. Write a Python program to implement word count using command line arguments.\n",
    "\n",
    "1) Create a text document \"apple.txt\" whch contains text for wordcount.\n",
    "\n",
    "Create a wordcount program which calls the \"apple.txt\" document by opening the file.\n",
    "\n",
    "iii) If the word is present again in the \"aaple.txt\",the wordcount is incremented by 1 until all the words are counted in the document.\n",
    "\n",
    "iv) Close the file.\n",
    "\n",
    "v) Create a command.py program which imports the wordcount.py program.\n",
    "Vi) count the number of words using command line arguments \n",
    "Vii) print each word and it's count"
   ]
  },
  {
   "cell_type": "code",
   "execution_count": null,
   "id": "26e669d5",
   "metadata": {},
   "outputs": [],
   "source": []
  },
  {
   "cell_type": "markdown",
   "id": "f2f4f3d6",
   "metadata": {},
   "source": [
    "# 5 .Write a Python program for finding the most frequent words in a text read from a file .\n",
    "\n",
    "i) Initially open the text file in read mode.\n",
    "\n",
    "ii) Make all the letters in the document into lowercase letters and split the words in each line.\n",
    "\n",
    "iii) Get the words in an order.\n",
    "\n",
    "iv) Sort the words for finding the most frequent words in the file."
   ]
  },
  {
   "cell_type": "code",
   "execution_count": 2,
   "id": "25510445",
   "metadata": {},
   "outputs": [
    {
     "name": "stdout",
     "output_type": "stream",
     "text": [
      "myfile.txt has been created.\n"
     ]
    }
   ],
   "source": [
    "with open('myfile.txt', 'w') as file:\n",
    "    file.write(\"Positive role models, motivational, impactful leaders and individuals are crucial in our society today. We are living in uncertain times where young leaders have to rise up and tackle important issues.\\n\")\n",
    "    file.write(\" am so grateful for being introduced to BTS’s music, as I was able to learn from them, understand and agree with their imperative philosophies and life lessons\\n\")\n",
    "    file.write(\"Tell me your story. I want to hear your voice, and I want to hear your conviction. No matter who you are, where you’re from, your skin colour, gender identity: speak yourself. Find your name, find your voice by speaking yourself,\")\n",
    "\n",
    "print(\"myfile.txt has been created.\")"
   ]
  },
  {
   "cell_type": "code",
   "execution_count": 1,
   "id": "58563132",
   "metadata": {},
   "outputs": [
    {
     "name": "stdout",
     "output_type": "stream",
     "text": [
      "Enter the name of the text file: myfile.txt\n",
      "Top 10 most frequent words:\n",
      "1. your: 6 times\n",
      "2. and: 5 times\n",
      "3. to: 5 times\n",
      "4. i: 3 times\n",
      "5. leaders: 2 times\n",
      "6. are: 2 times\n",
      "7. in: 2 times\n",
      "8. where: 2 times\n",
      "9. want: 2 times\n",
      "10. hear: 2 times\n"
     ]
    }
   ],
   "source": [
    "while True:\n",
    "    try:\n",
    "        file_name = input(\"Enter the name of the text file: \")\n",
    "\n",
    "        with open(file_name, 'r') as file:\n",
    "            text = file.read()\n",
    "\n",
    "            words = text.lower().split()\n",
    "\n",
    "            word_count = {}\n",
    "            for word in words:\n",
    "                word_count[word] = word_count.get(word, 0) + 1\n",
    "\n",
    "            sorted_words = sorted(word_count.items(), key=lambda x: x[1], reverse=True)\n",
    "\n",
    "            num_top_words = 10 \n",
    "            print(f\"Top {num_top_words} most frequent words:\")\n",
    "            for i, (word, frequency) in enumerate(sorted_words[:num_top_words], start=1):\n",
    "                print(f\"{i}. {word}: {frequency} times\")\n",
    "\n",
    "        break\n",
    "\n",
    "    except FileNotFoundError:\n",
    "        print(\"The specified file was not found. Please enter a valid file name.\")\n",
    "    except Exception as e:\n",
    "        print(f\"An error occurred: {str(e)}\")"
   ]
  },
  {
   "cell_type": "markdown",
   "id": "08a7c2c2",
   "metadata": {},
   "source": [
    "# 6. File Processing with Command-Line Arguments- Scenario: You are developing a command-line utility that processes text files. Users can specify input and output file paths as command-line arguments. Your program should handle exceptions gracefully.\n",
    "\n",
    "i. Design a Python program that takes two command-line arguments: the input file path and the output file path. Ensure that the program checks if both arguments are provided and that the input file exists.\n",
    "\n",
    "ii. Implement error handling to deal with scenarios such as missing input files, invalid file paths, or permission issues when writing to the output file.\n",
    "\n",
    "If an error occurs during file processing, display a user-friendly error message, and exit the program with a non-zero exit code.\n",
    "\n",
    "iv. Write test cases that cover various scenarios, including providing valid and invalid file paths as command-line arguments."
   ]
  },
  {
   "cell_type": "code",
   "execution_count": null,
   "id": "06cfc514",
   "metadata": {},
   "outputs": [],
   "source": []
  }
 ],
 "metadata": {
  "kernelspec": {
   "display_name": "Python 3 (ipykernel)",
   "language": "python",
   "name": "python3"
  },
  "language_info": {
   "codemirror_mode": {
    "name": "ipython",
    "version": 3
   },
   "file_extension": ".py",
   "mimetype": "text/x-python",
   "name": "python",
   "nbconvert_exporter": "python",
   "pygments_lexer": "ipython3",
   "version": "3.11.4"
  }
 },
 "nbformat": 4,
 "nbformat_minor": 5
}
