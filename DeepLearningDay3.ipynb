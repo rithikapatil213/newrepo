{
 "cells": [
  {
   "cell_type": "markdown",
   "id": "b6319d41",
   "metadata": {},
   "source": [
    "# MLP for the two circles problem"
   ]
  },
  {
   "cell_type": "code",
   "execution_count": 1,
   "id": "f3f80cb6",
   "metadata": {},
   "outputs": [],
   "source": [
    "from keras.datasets import mnist\n",
    "from keras.models import Sequential\n",
    "from keras.layers import Dense\n",
    "from keras.optimizers import SGD\n",
    "from matplotlib import pyplot\n",
    "import matplotlib.pyplot as plt\n",
    "from keras.layers import BatchNormalization"
   ]
  },
  {
   "cell_type": "code",
   "execution_count": 2,
   "id": "bc568a88",
   "metadata": {},
   "outputs": [],
   "source": [
    "batch_size=128\n",
    "num_classes=10\n",
    "epochs=20"
   ]
  },
  {
   "cell_type": "code",
   "execution_count": 3,
   "id": "beb3c1c9",
   "metadata": {},
   "outputs": [
    {
     "name": "stdout",
     "output_type": "stream",
     "text": [
      "Shape-x:\t (60000, 28, 28)\n",
      "Shape-y:\t (60000,)\n"
     ]
    }
   ],
   "source": [
    "(xtrain,ytrain),(xtest,ytest)=mnist.load_data()\n",
    "print('Shape-x:\\t',xtrain.shape)\n",
    "print('Shape-y:\\t',ytrain.shape)"
   ]
  },
  {
   "cell_type": "code",
   "execution_count": null,
   "id": "15afd069",
   "metadata": {},
   "outputs": [],
   "source": []
  },
  {
   "cell_type": "code",
   "execution_count": 4,
   "id": "29327779",
   "metadata": {},
   "outputs": [
    {
     "name": "stdout",
     "output_type": "stream",
     "text": [
      "Shape-x-train:\t (60000, 784)\n",
      "Shape-x-Test:\t (10000, 784)\n"
     ]
    }
   ],
   "source": [
    "xtrain=xtrain.reshape(60000,784)\n",
    "xtest=xtest.reshape(10000,784)\n",
    "print('Shape-x-train:\\t',xtrain.shape)\n",
    "print('Shape-x-Test:\\t',xtest.shape)\n",
    "\n"
   ]
  },
  {
   "cell_type": "code",
   "execution_count": 5,
   "id": "4cbde740",
   "metadata": {},
   "outputs": [],
   "source": [
    "xtrain=xtrain.astype('float32')\n",
    "xtest=xtest.astype('float32')"
   ]
  },
  {
   "cell_type": "code",
   "execution_count": 6,
   "id": "4acb0f7e",
   "metadata": {},
   "outputs": [],
   "source": [
    "xtrain=xtrain/255.\n",
    "xtest=xtest/255."
   ]
  },
  {
   "cell_type": "code",
   "execution_count": 7,
   "id": "e34a9f6f",
   "metadata": {},
   "outputs": [
    {
     "name": "stdout",
     "output_type": "stream",
     "text": [
      "60000 train samples\n",
      "10000 test samples\n"
     ]
    }
   ],
   "source": [
    "print(xtrain.shape[0],'train samples')\n",
    "print(xtest.shape[0],'test samples')\n"
   ]
  },
  {
   "cell_type": "code",
   "execution_count": 8,
   "id": "6f5e58c4",
   "metadata": {},
   "outputs": [],
   "source": [
    "import keras\n",
    "ytrain=keras.utils.to_categorical(ytrain,num_classes)\n",
    "ytest=keras.utils.to_categorical(ytest,num_classes)\n"
   ]
  },
  {
   "cell_type": "code",
   "execution_count": 9,
   "id": "4129a93b",
   "metadata": {},
   "outputs": [
    {
     "data": {
      "text/plain": [
       "(60000, 10)"
      ]
     },
     "execution_count": 9,
     "metadata": {},
     "output_type": "execute_result"
    }
   ],
   "source": [
    "ytrain.shape"
   ]
  },
  {
   "cell_type": "markdown",
   "id": "8f50effd",
   "metadata": {},
   "source": [
    "# Sequential Model"
   ]
  },
  {
   "cell_type": "code",
   "execution_count": 10,
   "id": "c10c4f15",
   "metadata": {},
   "outputs": [],
   "source": [
    "\n",
    "model=Sequential()\n",
    "model.add(Dense(512,activation='relu',input_shape=(784,)))\n",
    "model.add(Dense(512,activation='relu'))\n",
    "model.add(BatchNormalization())\n",
    "model.add(Dense(num_classes,activation='softmax'))\n",
    "optm=SGD(learning_rate=0.01,momentum=0.9)\n",
    "\n",
    "model.compile(loss='binary_crossentropy',optimizer=optm,metrics=['accuracy'])\n",
    "\n"
   ]
  },
  {
   "cell_type": "code",
   "execution_count": 11,
   "id": "afa9188e",
   "metadata": {},
   "outputs": [
    {
     "name": "stdout",
     "output_type": "stream",
     "text": [
      "Model: \"sequential\"\n",
      "_________________________________________________________________\n",
      " Layer (type)                Output Shape              Param #   \n",
      "=================================================================\n",
      " dense (Dense)               (None, 512)               401920    \n",
      "                                                                 \n",
      " dense_1 (Dense)             (None, 512)               262656    \n",
      "                                                                 \n",
      " batch_normalization (Batch  (None, 512)               2048      \n",
      " Normalization)                                                  \n",
      "                                                                 \n",
      " dense_2 (Dense)             (None, 10)                5130      \n",
      "                                                                 \n",
      "=================================================================\n",
      "Total params: 671754 (2.56 MB)\n",
      "Trainable params: 670730 (2.56 MB)\n",
      "Non-trainable params: 1024 (4.00 KB)\n",
      "_________________________________________________________________\n"
     ]
    }
   ],
   "source": [
    "model.summary()"
   ]
  },
  {
   "cell_type": "code",
   "execution_count": 12,
   "id": "360e3ac9",
   "metadata": {},
   "outputs": [
    {
     "name": "stdout",
     "output_type": "stream",
     "text": [
      "Epoch 1/20\n",
      "1875/1875 [==============================] - 20s 10ms/step - loss: 0.0838 - accuracy: 0.9226 - val_loss: 0.0313 - val_accuracy: 0.9574\n",
      "Epoch 2/20\n",
      "1875/1875 [==============================] - 18s 10ms/step - loss: 0.0275 - accuracy: 0.9639 - val_loss: 0.0210 - val_accuracy: 0.9704\n",
      "Epoch 3/20\n",
      "1875/1875 [==============================] - 21s 11ms/step - loss: 0.0197 - accuracy: 0.9757 - val_loss: 0.0175 - val_accuracy: 0.9757\n",
      "Epoch 4/20\n",
      "1875/1875 [==============================] - 21s 11ms/step - loss: 0.0151 - accuracy: 0.9822 - val_loss: 0.0160 - val_accuracy: 0.9791\n",
      "Epoch 5/20\n",
      "1875/1875 [==============================] - 21s 11ms/step - loss: 0.0123 - accuracy: 0.9861 - val_loss: 0.0143 - val_accuracy: 0.9800\n",
      "Epoch 6/20\n",
      "1875/1875 [==============================] - 19s 10ms/step - loss: 0.0099 - accuracy: 0.9897 - val_loss: 0.0138 - val_accuracy: 0.9808\n",
      "Epoch 7/20\n",
      "1875/1875 [==============================] - 21s 11ms/step - loss: 0.0083 - accuracy: 0.9922 - val_loss: 0.0132 - val_accuracy: 0.9806\n",
      "Epoch 8/20\n",
      "1875/1875 [==============================] - 21s 11ms/step - loss: 0.0073 - accuracy: 0.9934 - val_loss: 0.0126 - val_accuracy: 0.9824\n",
      "Epoch 9/20\n",
      "1875/1875 [==============================] - 21s 11ms/step - loss: 0.0058 - accuracy: 0.9955 - val_loss: 0.0123 - val_accuracy: 0.9832\n",
      "Epoch 10/20\n",
      "1875/1875 [==============================] - 21s 11ms/step - loss: 0.0050 - accuracy: 0.9965 - val_loss: 0.0122 - val_accuracy: 0.9830\n",
      "Epoch 11/20\n",
      "1875/1875 [==============================] - 21s 11ms/step - loss: 0.0042 - accuracy: 0.9977 - val_loss: 0.0120 - val_accuracy: 0.9836\n",
      "Epoch 12/20\n",
      "1875/1875 [==============================] - 22s 11ms/step - loss: 0.0038 - accuracy: 0.9980 - val_loss: 0.0121 - val_accuracy: 0.9838\n",
      "Epoch 13/20\n",
      "1875/1875 [==============================] - 21s 11ms/step - loss: 0.0032 - accuracy: 0.9986 - val_loss: 0.0118 - val_accuracy: 0.9845\n",
      "Epoch 14/20\n",
      "1875/1875 [==============================] - 20s 11ms/step - loss: 0.0027 - accuracy: 0.9991 - val_loss: 0.0120 - val_accuracy: 0.9839\n",
      "Epoch 15/20\n",
      "1875/1875 [==============================] - 21s 11ms/step - loss: 0.0025 - accuracy: 0.9992 - val_loss: 0.0118 - val_accuracy: 0.9836\n",
      "Epoch 16/20\n",
      "1875/1875 [==============================] - 22s 12ms/step - loss: 0.0022 - accuracy: 0.9993 - val_loss: 0.0119 - val_accuracy: 0.9834\n",
      "Epoch 17/20\n",
      "1875/1875 [==============================] - 20s 11ms/step - loss: 0.0019 - accuracy: 0.9996 - val_loss: 0.0117 - val_accuracy: 0.9844\n",
      "Epoch 18/20\n",
      "1875/1875 [==============================] - 19s 10ms/step - loss: 0.0018 - accuracy: 0.9997 - val_loss: 0.0125 - val_accuracy: 0.9825\n",
      "Epoch 19/20\n",
      "1875/1875 [==============================] - 21s 11ms/step - loss: 0.0016 - accuracy: 0.9998 - val_loss: 0.0118 - val_accuracy: 0.9842\n",
      "Epoch 20/20\n",
      "1875/1875 [==============================] - 21s 11ms/step - loss: 0.0015 - accuracy: 0.9998 - val_loss: 0.0118 - val_accuracy: 0.9843\n"
     ]
    }
   ],
   "source": [
    "history=model.fit(xtrain,ytrain,validation_data=(xtest,ytest),epochs=20,verbose=1)\n"
   ]
  },
  {
   "cell_type": "code",
   "execution_count": 17,
   "id": "306d377a",
   "metadata": {},
   "outputs": [
    {
     "name": "stdout",
     "output_type": "stream",
     "text": [
      "1875/1875 [==============================] - 9s 5ms/step - loss: 6.1560e-04 - accuracy: 1.0000\n",
      "313/313 [==============================] - 1s 5ms/step - loss: 0.0118 - accuracy: 0.9843\n",
      "Train Accuracy:\t 1.0\n",
      "\n",
      "Test Accuracy:\t 0.9843000173568726\n"
     ]
    }
   ],
   "source": [
    "_,train_acc=model.evaluate(xtrain,ytrain,verbose=1)\n",
    "_,test_acc=model.evaluate(xtest,ytest,verbose=1)\n",
    "print('Train Accuracy:\\t',train_acc)\n",
    "print()\n",
    "print('Test Accuracy:\\t',test_acc)"
   ]
  },
  {
   "cell_type": "code",
   "execution_count": 18,
   "id": "edf583c0",
   "metadata": {},
   "outputs": [
    {
     "data": {
      "image/png": "[encoded data removed]",
      "text/plain": [
       "<Figure size 640x480 with 1 Axes>"
      ]
     },
     "metadata": {},
     "output_type": "display_data"
    }
   ],
   "source": [
    "pyplot.plot(history.history['accuracy'],label='train')\n",
    "pyplot.plot(history.history['val_accuracy'],label='test')\n",
    "pyplot.legend()\n",
    "pyplot.show()\n"
   ]
  },
  {
   "cell_type": "code",
   "execution_count": 15,
   "id": "63dbc138",
   "metadata": {},
   "outputs": [
    {
     "data": {
      "image/png": "[encoded data removed]",
      "text/plain": [
       "<Figure size 640x480 with 1 Axes>"
      ]
     },
     "metadata": {},
     "output_type": "display_data"
    }
   ],
   "source": [
    "pyplot.plot(history.history['loss'],label='train')\n",
    "pyplot.plot(history.history['val_loss'],label='test')\n",
    "pyplot.legend()\n",
    "pyplot.show()\n"
   ]
  },
  {
   "cell_type": "code",
   "execution_count": 19,
   "id": "9edddbe7",
   "metadata": {},
   "outputs": [
    {
     "name": "stdout",
     "output_type": "stream",
     "text": [
      "Trial 30 Complete [00h 00m 38s]\n",
      "val_accuracy: 0.9638000130653381\n",
      "\n",
      "Best val_accuracy So Far: 0.9789999723434448\n",
      "Total elapsed time: 00h 11m 04s\n",
      "Epoch 1/10\n",
      "1875/1875 [==============================] - 7s 3ms/step - loss: 0.3596 - accuracy: 0.8922 - val_loss: 0.1434 - val_accuracy: 0.9574\n",
      "Epoch 2/10\n",
      "1875/1875 [==============================] - 6s 3ms/step - loss: 0.1719 - accuracy: 0.9502 - val_loss: 0.1174 - val_accuracy: 0.9654\n",
      "Epoch 3/10\n",
      "1875/1875 [==============================] - 6s 3ms/step - loss: 0.1357 - accuracy: 0.9605 - val_loss: 0.0942 - val_accuracy: 0.9727\n",
      "Epoch 4/10\n",
      "1875/1875 [==============================] - 6s 3ms/step - loss: 0.1125 - accuracy: 0.9668 - val_loss: 0.0872 - val_accuracy: 0.9749\n",
      "Epoch 5/10\n",
      "1875/1875 [==============================] - 6s 3ms/step - loss: 0.1025 - accuracy: 0.9691 - val_loss: 0.0854 - val_accuracy: 0.9750\n",
      "Epoch 6/10\n",
      "1875/1875 [==============================] - 6s 3ms/step - loss: 0.0903 - accuracy: 0.9729 - val_loss: 0.0737 - val_accuracy: 0.9775\n",
      "Epoch 7/10\n",
      "1875/1875 [==============================] - 6s 3ms/step - loss: 0.0836 - accuracy: 0.9754 - val_loss: 0.0794 - val_accuracy: 0.9771\n",
      "Epoch 8/10\n",
      "1875/1875 [==============================] - 6s 3ms/step - loss: 0.0778 - accuracy: 0.9771 - val_loss: 0.0775 - val_accuracy: 0.9765\n",
      "Epoch 9/10\n",
      "1875/1875 [==============================] - 5s 3ms/step - loss: 0.0717 - accuracy: 0.9785 - val_loss: 0.0705 - val_accuracy: 0.9803\n",
      "Epoch 10/10\n",
      "1875/1875 [==============================] - 6s 3ms/step - loss: 0.0709 - accuracy: 0.9782 - val_loss: 0.0799 - val_accuracy: 0.9796\n"
     ]
    },
    {
     "data": {
      "text/plain": [
       "<keras.src.callbacks.History at 0x28f3a27f390>"
      ]
     },
     "execution_count": 19,
     "metadata": {},
     "output_type": "execute_result"
    }
   ],
   "source": [
    "\n",
    "import tensorflow as tf\n",
    "from tensorflow import keras\n",
    "from tensorflow.keras import layers\n",
    "from kerastuner.tuners import Hyperband\n",
    "from kerastuner.engine.hyperparameters import HyperParameter\n",
    "\n",
    "# Load and preprocess the MNIST dataset\n",
    "(x_train, y_train), (x_test, y_test) = keras.datasets.mnist.load_data()\n",
    "x_train, x_test = x_train / 255.0, x_test / 255.0\n",
    "\n",
    "# Define the model-building function\n",
    "def build_model(hp):\n",
    "    model = keras.Sequential()\n",
    "    model.add(layers.Flatten(input_shape=(28, 28)))\n",
    "\n",
    "    # Tune the number of hidden layers and units\n",
    "    for i in range(hp.Int('num_layers', 1, 3)):\n",
    "        model.add(layers.Dense(units=hp.Int(f'units_{i}', 32, 128, step=32), activation='relu'))\n",
    "        model.add(layers.Dropout(0.2))\n",
    "\n",
    "    model.add(layers.Dense(10, activation='softmax'))\n",
    "\n",
    "    # Compile the model with a tunable learning rate\n",
    "    model.compile(\n",
    "        optimizer=keras.optimizers.Adam(learning_rate=hp.Choice('learning_rate', values=[1e-2, 1e-3, 1e-4])),\n",
    "        loss='sparse_categorical_crossentropy',\n",
    "        metrics=['accuracy']\n",
    "    )\n",
    "\n",
    "    return model\n",
    "\n",
    "# Instantiate the tuner and perform hyperparameter tuning\n",
    "tuner = Hyperband(\n",
    "    build_model,\n",
    "    objective='val_accuracy',\n",
    "    max_epochs=10,\n",
    "    factor=3,\n",
    "    directory='keras_tuner_dir',\n",
    "    project_name='mnist_hyperband'\n",
    ")\n",
    "\n",
    "tuner.search(x_train, y_train, epochs=10, validation_data=(x_test,y_test))\n",
    "\n",
    "# Get the best hyperparameters\n",
    "best_hps = tuner.get_best_hyperparameters(num_trials=1)[0]\n",
    "\n",
    "# Build the model with the best hyperparameters\n",
    "best_model = tuner.hypermodel.build(best_hps)\n",
    "\n",
    "# Train the model with the best hyperparameters\n",
    "best_model.fit(x_train, y_train, epochs=10, validation_data=(x_test, y_test))"
   ]
  },
  {
   "cell_type": "code",
   "execution_count": null,
   "id": "85289f8f",
   "metadata": {},
   "outputs": [],
   "source": []
  },
  {
   "cell_type": "code",
   "execution_count": null,
   "id": "9719af27",
   "metadata": {},
   "outputs": [],
   "source": []
  },
  {
   "cell_type": "code",
   "execution_count": null,
   "id": "1f4bcbfa",
   "metadata": {},
   "outputs": [],
   "source": []
  }
 ],
 "metadata": {
  "kernelspec": {
   "display_name": "Python 3 (ipykernel)",
   "language": "python",
   "name": "python3"
  },
  "language_info": {
   "codemirror_mode": {
    "name": "ipython",
    "version": 3
   },
   "file_extension": ".py",
   "mimetype": "text/x-python",
   "name": "python",
   "nbconvert_exporter": "python",
   "pygments_lexer": "ipython3",
   "version": "3.11.4"
  }
 },
 "nbformat": 4,
 "nbformat_minor": 5
}
