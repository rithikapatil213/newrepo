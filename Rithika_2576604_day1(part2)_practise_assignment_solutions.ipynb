{
 "cells": [
  {
   "cell_type": "markdown",
   "id": "572a3718",
   "metadata": {},
   "source": [
    "# 11. Create a dictionary containing three lambda functions square, cube, and square root."
   ]
  },
  {
   "cell_type": "code",
   "execution_count": 1,
   "id": "e42f1528",
   "metadata": {},
   "outputs": [
    {
     "name": "stdout",
     "output_type": "stream",
     "text": [
      "Square of 4: 16\n",
      "Cube of 4: 64\n",
      "Square root of 4: 2.0\n"
     ]
    }
   ],
   "source": [
    "square = lambda x: x ** 2\n",
    "cube = lambda x: x ** 3\n",
    "square_root = lambda x: x ** 0.5\n",
    "\n",
    "functions_dict = {\n",
    "    \"square\": square,\n",
    "    \"cube\": cube,\n",
    "    \"square_root\": square_root\n",
    "}\n",
    "\n",
    "number = 4\n",
    "print(f\"Square of {number}: {functions_dict['square'](number)}\")\n",
    "print(f\"Cube of {number}: {functions_dict['cube'](number)}\")\n",
    "print(f\"Square root of {number}: {functions_dict['square_root'](number)}\")"
   ]
  },
  {
   "cell_type": "markdown",
   "id": "8e9e106f",
   "metadata": {},
   "source": [
    "# 13. A dictionary of names and their weights on earth is given. Finf how much they weigh on the moon. (use map and lambda function) \n",
    "\n",
    "Formula: (wEarth * GMoon)/GEarth\n",
    "\n",
    "1. #Weight of people in kg\n",
    "    WeightOnEarth = {'john':45, 'Shelly':65, 'Marry':35}\n",
    "2. #Gravitational force on the moon is 1.622 m/s2\n",
    "    GMoon = 1.622\n",
    "3. #Gravitational force on the earth is 9.81 m/s2\n",
    "    GEarth = 9.81"
   ]
  },
  {
   "cell_type": "code",
   "execution_count": 2,
   "id": "9926c506",
   "metadata": {},
   "outputs": [
    {
     "name": "stdout",
     "output_type": "stream",
     "text": [
      "john's weight on the moon: 7.44 kg\n",
      "Shelly's weight on the moon: 10.75 kg\n",
      "Marry's weight on the moon: 5.79 kg\n"
     ]
    }
   ],
   "source": [
    "WeightOnEarth = {'john': 45, 'Shelly': 65, 'Marry': 35}\n",
    "\n",
    "GMoon = 1.622\n",
    "\n",
    "GEarth = 9.81\n",
    "\n",
    "WeightOnMoon = dict(map(lambda name_weight: (name_weight[0], (name_weight[1] * GMoon) / GEarth), WeightOnEarth.items()))\n",
    "\n",
    "for name, weight in WeightOnMoon.items():\n",
    "    print(f\"{name}'s weight on the moon: {weight:.2f} kg\")"
   ]
  },
  {
   "cell_type": "markdown",
   "id": "5bd81719",
   "metadata": {},
   "source": [
    "# 16 write a  python program to rotate a list by the right n times with and without slicing"
   ]
  },
  {
   "cell_type": "code",
   "execution_count": 3,
   "id": "9d3db749",
   "metadata": {},
   "outputs": [
    {
     "name": "stdout",
     "output_type": "stream",
     "text": [
      "Original List: [4, 5, 1, 2, 3]\n",
      "Rotated List: [4, 5, 1, 2, 3]\n"
     ]
    }
   ],
   "source": [
    "def rotate_right_without_slicing(arr, n):\n",
    "    for _ in range(n):\n",
    "        last_element = arr[-1]\n",
    "        for i in range(len(arr)-1, 0, -1):\n",
    "            arr[i] = arr[i-1]\n",
    "        arr[0] = last_element\n",
    "    return arr\n",
    "\n",
    "original_list = [1, 2, 3, 4, 5]\n",
    "rotated_list = rotate_right_without_slicing(original_list, 2)\n",
    "print(f\"Original List: {original_list}\")\n",
    "print(f\"Rotated List: {rotated_list}\")"
   ]
  },
  {
   "cell_type": "markdown",
   "id": "b16eb3f9",
   "metadata": {},
   "source": [
    "# 17. Write a python program to print the below pattern\n",
    "\n",
    "A. \n",
    "1 \n",
    "1 1 \n",
    "1 2 1 \n",
    "1 3 3 1 \n",
    "1 4 6 4 1 \n",
    "1 5 10 10 5 1 \n",
    "1 6 15 20 15 6 1"
   ]
  },
  {
   "cell_type": "code",
   "execution_count": 4,
   "id": "ed244784",
   "metadata": {},
   "outputs": [
    {
     "name": "stdout",
     "output_type": "stream",
     "text": [
      "1 \n",
      "1 1 \n",
      "1 2 1 \n",
      "1 3 3 1 \n",
      "1 4 6 4 1 \n",
      "1 5 10 10 5 1 \n",
      "1 6 15 20 15 6 1 \n"
     ]
    }
   ],
   "source": [
    "def print_pattern(n):\n",
    "    for i in range(n):\n",
    "        coef = 1\n",
    "        print(\"1\", end=\" \")\n",
    "\n",
    "        for j in range(1, i+1):\n",
    "            coef = coef * (i - j + 1) // j\n",
    "            print(coef, end=\" \")\n",
    "\n",
    "        print(\"\")\n",
    "\n",
    "\n",
    "n = 7\n",
    "print_pattern(n)"
   ]
  },
  {
   "cell_type": "code",
   "execution_count": null,
   "id": "83ff626f",
   "metadata": {},
   "outputs": [],
   "source": [
    "B. \n",
    "* \n",
    "*  * \n",
    "*  *  * \n",
    "*  *  *  * \n",
    "*  *  *  *  *"
   ]
  },
  {
   "cell_type": "code",
   "execution_count": 5,
   "id": "5fe28639",
   "metadata": {},
   "outputs": [
    {
     "name": "stdout",
     "output_type": "stream",
     "text": [
      "*  \n",
      "*  *  \n",
      "*  *  *   \n",
      "*  *  *  *   \n",
      "*  *  *  *  *   \n"
     ]
    }
   ],
   "source": [
    "def print_pattern(n):\n",
    "    for i in range(n):\n",
    "        for j in range(i+1):\n",
    "            if j == i and i > 1:\n",
    "                print(\"*\", end=\"   \")\n",
    "            else:\n",
    "                print(\"*\", end=\"  \")\n",
    "        print(\"\")\n",
    "\n",
    "# Example usage:\n",
    "n = 5\n",
    "print_pattern(n)"
   ]
  },
  {
   "cell_type": "code",
   "execution_count": null,
   "id": "b8ae4919",
   "metadata": {},
   "outputs": [],
   "source": [
    "      * \n",
    "     * * \n",
    "    * * * \n",
    "   * * * * \n",
    "  * * * * * \n",
    " * * * * * * \n",
    "* * * * * * *"
   ]
  },
  {
   "cell_type": "code",
   "execution_count": 6,
   "id": "62ac264b",
   "metadata": {},
   "outputs": [
    {
     "name": "stdout",
     "output_type": "stream",
     "text": [
      "      * \n",
      "     * * \n",
      "    * * * \n",
      "   * * * * \n",
      "  * * * * * \n",
      " * * * * * * \n",
      "* * * * * * * \n"
     ]
    }
   ],
   "source": [
    "rows = 7\n",
    "\n",
    "for i in range(rows):\n",
    "    print(\" \"*(rows-i-1) + \"* \"*(i+1))"
   ]
  },
  {
   "cell_type": "code",
   "execution_count": null,
   "id": "88033a5a",
   "metadata": {},
   "outputs": [],
   "source": [
    "p\n",
    "py\n",
    "pyt\n",
    "pyth\n",
    "pytho\n",
    "python"
   ]
  },
  {
   "cell_type": "code",
   "execution_count": 7,
   "id": "bbee09ac",
   "metadata": {},
   "outputs": [
    {
     "name": "stdout",
     "output_type": "stream",
     "text": [
      "p\n",
      "py\n",
      "pyt\n",
      "pyth\n",
      "pytho\n",
      "python\n"
     ]
    }
   ],
   "source": [
    "word = \"python\"\n",
    "\n",
    "for i in range(1, len(word) + 1):\n",
    "    print(word[:i])"
   ]
  }
 ],
 "metadata": {
  "kernelspec": {
   "display_name": "Python 3 (ipykernel)",
   "language": "python",
   "name": "python3"
  },
  "language_info": {
   "codemirror_mode": {
    "name": "ipython",
    "version": 3
   },
   "file_extension": ".py",
   "mimetype": "text/x-python",
   "name": "python",
   "nbconvert_exporter": "python",
   "pygments_lexer": "ipython3",
   "version": "3.11.4"
  }
 },
 "nbformat": 4,
 "nbformat_minor": 5
}
