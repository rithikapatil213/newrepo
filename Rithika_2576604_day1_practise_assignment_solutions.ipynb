{
 "cells": [
  {
   "cell_type": "markdown",
   "id": "8d9a2f71",
   "metadata": {},
   "source": [
    "# 1. Manipulating using a list.\n",
    "\n",
    "1. To add new elements to the end of the list.\n",
    "2. To reverse elements in the list\n",
    "3. To display the same list of elements multiple times.\n",
    "4. To concatenate two list\n",
    "5. To sort the elements in the list ain ascending order."
   ]
  },
  {
   "cell_type": "code",
   "execution_count": 1,
   "id": "c2f75200",
   "metadata": {},
   "outputs": [
    {
     "name": "stdout",
     "output_type": "stream",
     "text": [
      "1. List after adding new elements: [1, 2, 3, 4, 5, 6, 7, 8]\n",
      "2. List after reversing: [8, 7, 6, 5, 4, 3, 2, 1]\n",
      "3. List displayed 3 times: [8, 7, 6, 5, 4, 3, 2, 1, 8, 7, 6, 5, 4, 3, 2, 1, 8, 7, 6, 5, 4, 3, 2, 1]\n",
      "4. Concatenated list: [9, 10, 11, 12]\n",
      "5. List sorted in ascending order: [1, 2, 3, 4, 5, 6, 7, 8]\n"
     ]
    }
   ],
   "source": [
    "# Initialize a list\n",
    "a = [1, 2, 3, 4, 5]\n",
    "\n",
    "# 1. Add new elements to the end of the list\n",
    "b = [6, 7, 8]\n",
    "a.extend(b)\n",
    "print(\"1. List after adding new elements:\", a)\n",
    "\n",
    "# 2. Reverse elements in the list\n",
    "a.reverse()\n",
    "print(\"2. List after reversing:\", a)\n",
    "\n",
    "# 3. Display the same list of elements multiple times\n",
    "num_times = 3\n",
    "result_list = a * num_times\n",
    "print(f\"3. List displayed {num_times} times:\", result_list)\n",
    "\n",
    "# 4. Concatenate two lists\n",
    "list1 = [9, 10]\n",
    "list2 = [11, 12]\n",
    "concatenated_list = list1 + list2\n",
    "print(\"4. Concatenated list:\", concatenated_list)\n",
    "\n",
    "# 5. Sort the elements in the list in ascending order\n",
    "a.sort()\n",
    "print(\"5. List sorted in ascending order:\", a)"
   ]
  },
  {
   "cell_type": "markdown",
   "id": "efd4a3e0",
   "metadata": {},
   "source": [
    "# 2. write a Python Program to do in tuple.\n",
    "\n",
    "1. Manipulate using tuples.\n",
    "2. To add new elements to the end of the tuples.\n",
    "3. To reverse elements in the list.\n",
    "4. To display the elements of the same tuple multiple times.\n",
    "5. To concatenate two tuples.\n",
    "6. To sort the elements in list in ascending order. "
   ]
  },
  {
   "cell_type": "code",
   "execution_count": 2,
   "id": "baadc4de",
   "metadata": {},
   "outputs": [
    {
     "name": "stdout",
     "output_type": "stream",
     "text": [
      "1. Manipulated Tuple: (1, 2, 10, 4, 5)\n",
      "2. Tuple after adding new elements: (1, 2, 3, 4, 5, 6, 7, 8)\n",
      "3. Reversed Tuple: (8, 7, 6, 5, 4, 3, 2, 1)\n",
      "4. Tuple displayed 3 times: (1, 2, 3, 4, 5, 6, 7, 8, 1, 2, 3, 4, 5, 6, 7, 8, 1, 2, 3, 4, 5, 6, 7, 8)\n",
      "5. Concatenated Tuple: (9, 10, 11, 12)\n",
      "6. Tuple sorted in ascending order: (1, 2, 3, 4, 5, 6, 7, 8)\n"
     ]
    }
   ],
   "source": [
    "# Initialize a tuple\n",
    "t = (1, 2, 3, 4, 5)\n",
    "\n",
    "# 1. Manipulate using tuples\n",
    "# Tuples are immutable, so you can't directly change them.\n",
    "# For example, to change the third element to 10:\n",
    "modified_tuple = t[:2] + (10,) + t[3:]\n",
    "print(\"1. Manipulated Tuple:\", modified_tuple)\n",
    "\n",
    "# 2. To add new elements to the end of the tuple\n",
    "new_elements = (6, 7, 8)\n",
    "t += new_elements\n",
    "print(\"2. Tuple after adding new elements:\", t)\n",
    "\n",
    "# 3. To reverse elements in the tuple\n",
    "reversed_tuple = t[::-1]\n",
    "print(\"3. Reversed Tuple:\", reversed_tuple)\n",
    "\n",
    "# 4. To display the elements of the same tuple multiple times\n",
    "num_times = 3\n",
    "result_tuple = t * num_times\n",
    "print(f\"4. Tuple displayed {num_times} times:\", result_tuple)\n",
    "\n",
    "# 5. To concatenate two tuples\n",
    "tuple1 = (9, 10)\n",
    "tuple2 = (11, 12)\n",
    "concatenated_tuple = tuple1 + tuple2\n",
    "print(\"5. Concatenated Tuple:\", concatenated_tuple)\n",
    "\n",
    "# 6. To sort the elements in a list in ascending order\n",
    "sorted_tuple = tuple(sorted(t))\n",
    "print(\"6. Tuple sorted in ascending order:\", sorted_tuple)"
   ]
  },
  {
   "cell_type": "markdown",
   "id": "8d1686f3",
   "metadata": {},
   "source": [
    "# 3. Write a python program to implement the follwing using the list.\n",
    "\n",
    "1. Create a list with the integers (min 10 numbers)\n",
    "2. How to display the last number in the list.\n",
    "3. Command for displaying the values from the list [0:4]\n",
    "4. Command for diaplaying the values from the list [2:]\n",
    "5. Command for displaying the values from the list [:6]"
   ]
  },
  {
   "cell_type": "code",
   "execution_count": 6,
   "id": "55c562ce",
   "metadata": {},
   "outputs": [
    {
     "name": "stdout",
     "output_type": "stream",
     "text": [
      "1. The values in b are [1, 2, 3, 4, 5, 6, 7, 8, 9, 10]\n",
      "2. Last number in the list: 10\n",
      "3. Values from index 0 to 3: [1, 2, 3, 4]\n",
      "4. Values from index 2 to the end: [3, 4, 5, 6, 7, 8, 9, 10]\n",
      "5. Values from the beginning to index 5: [1, 2, 3, 4, 5, 6]\n"
     ]
    }
   ],
   "source": [
    "# 1. Create a list with integers (minimum 10 numbers)\n",
    "b = [1, 2, 3, 4, 5, 6, 7, 8, 9, 10]\n",
    "print(\"1. The values in b are\", b)\n",
    "\n",
    "# 2. Display the last number in the list\n",
    "last_number = b[-1]\n",
    "print(\"2. Last number in the list:\", last_number)\n",
    "\n",
    "# 3. Display values from the list [0:4]\n",
    "subset1 = b[0:4]\n",
    "print(\"3. Values from index 0 to 3:\", subset1)\n",
    "\n",
    "# 4. Display values from the list [2:]\n",
    "subset2 = b[2:]\n",
    "print(\"4. Values from index 2 to the end:\", subset2)\n",
    "\n",
    "# 5. Display values from the list [:6]\n",
    "subset3 = b[:6]\n",
    "print(\"5. Values from the beginning to index 5:\", subset3)"
   ]
  },
  {
   "cell_type": "markdown",
   "id": "cac5dcea",
   "metadata": {},
   "source": [
    "# 4. Write a python program: tuple1=(10,50,20,40,30)\n",
    "\n",
    "1. To display the elements 10 and 50 from tuple1\n",
    "2. To display the length of a tuple1.\n",
    "3. To find the minimum element from tuple1.\n",
    "4. To add all the elements in the tuple1.\n",
    "5. To display the same tuple1 multiple times."
   ]
  },
  {
   "cell_type": "code",
   "execution_count": 7,
   "id": "21d3739d",
   "metadata": {},
   "outputs": [
    {
     "name": "stdout",
     "output_type": "stream",
     "text": [
      "1. Elements 10 and 50 from tuple1: 10 50\n",
      "2. Length of tuple1: 5\n",
      "3. Minimum element from tuple1: 10\n",
      "4. Sum of elements in tuple1: 150\n",
      "5. Tuple1 displayed 3 times: (10, 50, 20, 40, 30, 10, 50, 20, 40, 30, 10, 50, 20, 40, 30)\n"
     ]
    }
   ],
   "source": [
    "# Initialize tuple1\n",
    "tuple1 = (10, 50, 20, 40, 30)\n",
    "\n",
    "# 1. Display the elements 10 and 50 from tuple1\n",
    "element1 = tuple1[0]\n",
    "element2 = tuple1[1]\n",
    "print(\"1. Elements 10 and 50 from tuple1:\", element1, element2)\n",
    "\n",
    "# 2. Display the length of tuple1\n",
    "length = len(tuple1)\n",
    "print(\"2. Length of tuple1:\", length)\n",
    "\n",
    "# 3. Find the minimum element from tuple1\n",
    "min_element = min(tuple1)\n",
    "print(\"3. Minimum element from tuple1:\", min_element)\n",
    "\n",
    "# 4. Add all the elements in tuple1\n",
    "sum_elements = sum(tuple1)\n",
    "print(\"4. Sum of elements in tuple1:\", sum_elements)\n",
    "\n",
    "# 5. Display the same tuple1 multiple times\n",
    "num_times = 3\n",
    "result_tuple = tuple1 * num_times\n",
    "print(f\"5. Tuple1 displayed {num_times} times:\", result_tuple)"
   ]
  },
  {
   "cell_type": "markdown",
   "id": "1924822c",
   "metadata": {},
   "source": [
    "# 5. Write a python program\n",
    "\n",
    "1. To calculate the length of a string.\n",
    "2. To reverse words in a string.\n",
    "3. To display the same string multiple times.\n",
    "4. To concatenate two strings.\n",
    "5. str1=\"South India\", Using string slicing to display \"India\""
   ]
  },
  {
   "cell_type": "code",
   "execution_count": 8,
   "id": "d0df1f2b",
   "metadata": {},
   "outputs": [
    {
     "name": "stdout",
     "output_type": "stream",
     "text": [
      "1. Length of the string: 13\n",
      "2. Reversed words in the string: World! Hello,\n",
      "3. String displayed 3 times: Hello, World!Hello, World!Hello, World!\n",
      "4. Concatenated string: Hello, World!\n",
      "5. Substring 'India' from 'South India': India\n"
     ]
    }
   ],
   "source": [
    "# 1. Calculate the length of a string\n",
    "input_string = \"Hello, World!\"\n",
    "string_length = len(input_string)\n",
    "print(\"1. Length of the string:\", string_length)\n",
    "\n",
    "# 2. Reverse words in a string\n",
    "words = input_string.split()\n",
    "reversed_string = ' '.join(reversed(words))\n",
    "print(\"2. Reversed words in the string:\", reversed_string)\n",
    "\n",
    "# 3. Display the same string multiple times\n",
    "num_times = 3\n",
    "result_string = input_string * num_times\n",
    "print(f\"3. String displayed {num_times} times:\", result_string)\n",
    "\n",
    "# 4. Concatenate two strings\n",
    "str1 = \"Hello, \"\n",
    "str2 = \"World!\"\n",
    "concatenated_string = str1 + str2\n",
    "print(\"4. Concatenated string:\", concatenated_string)\n",
    "\n",
    "# 5. Using string slicing to display \"India\" from \"South India\"\n",
    "str3 = \"South India\"\n",
    "substring = str3[6:]\n",
    "print(\"5. Substring 'India' from 'South India':\", substring)"
   ]
  },
  {
   "cell_type": "markdown",
   "id": "e4aadd69",
   "metadata": {},
   "source": [
    "# 6. Perform the following:\n",
    "\n",
    "1. Creating the directory.\n",
    "2. Accessing values and keys in the Dictionary.\n",
    "3. Updating the dictionary using a function.\n",
    "4. Clear and delete the dictionary values."
   ]
  },
  {
   "cell_type": "code",
   "execution_count": 10,
   "id": "46be8298",
   "metadata": {},
   "outputs": [
    {
     "name": "stdout",
     "output_type": "stream",
     "text": [
      "1. Directory 'my_directory' already exists.\n",
      "2. Accessing values by keys:\n",
      "Name: John\n",
      "Age: 30\n",
      "City: New York\n",
      "Accessing keys:\n",
      "['name', 'age', 'city']\n",
      "\n",
      "3. Updated dictionary: {'name': 'John', 'age': 30, 'city': 'New York', 'occupation': 'Engineer'}\n",
      "\n",
      "4. Cleared dictionary: {}\n"
     ]
    }
   ],
   "source": [
    "# 1. Creating a directory (folder)\n",
    "import os\n",
    "\n",
    "# Specify the directory path\n",
    "directory_path = \"my_directory\"\n",
    "\n",
    "# Check if the directory already exists\n",
    "if not os.path.exists(directory_path):\n",
    "    # Create the directory\n",
    "    os.mkdir(directory_path)\n",
    "    print(f\"1. Created directory: {directory_path}\")\n",
    "else:\n",
    "    print(f\"1. Directory '{directory_path}' already exists.\")\n",
    "\n",
    "# 2. Accessing values and keys in the dictionary\n",
    "my_dict = {'name': 'John', 'age': 30, 'city': 'New York'}\n",
    "\n",
    "# Accessing values by keys\n",
    "print(\"2. Accessing values by keys:\")\n",
    "print(\"Name:\", my_dict['name'])\n",
    "print(\"Age:\", my_dict['age'])\n",
    "print(\"City:\", my_dict['city'])\n",
    "\n",
    "# Accessing keys\n",
    "print(\"Accessing keys:\")\n",
    "keys = my_dict.keys()\n",
    "print(list(keys))\n",
    "\n",
    "# 3. Updating the dictionary using a function\n",
    "def update_dictionary(dictionary, key, value):\n",
    "    dictionary[key] = value\n",
    "\n",
    "update_dictionary(my_dict, 'occupation', 'Engineer')\n",
    "print(\"\\n3. Updated dictionary:\", my_dict)\n",
    "\n",
    "# 4. Clear and delete the dictionary values\n",
    "# Clear all values in the dictionary\n",
    "my_dict.clear()\n",
    "print(\"\\n4. Cleared dictionary:\", my_dict)\n",
    "\n",
    "# Delete the dictionary\n",
    "del my_dict"
   ]
  },
  {
   "cell_type": "markdown",
   "id": "38f30f63",
   "metadata": {},
   "source": [
    "# 7. Python Program to insert a number to any position in a list. "
   ]
  },
  {
   "cell_type": "code",
   "execution_count": 11,
   "id": "fb3af925",
   "metadata": {},
   "outputs": [
    {
     "name": "stdout",
     "output_type": "stream",
     "text": [
      "Inserted 10 at position 2.\n",
      "Updated List: [1, 2, 10, 3, 4, 5]\n"
     ]
    }
   ],
   "source": [
    "# Sample list\n",
    "a = [1, 2, 3, 4, 5]\n",
    "\n",
    "# Number to insert\n",
    "number_to_insert = 10\n",
    "\n",
    "# Position where you want to insert the number (0-based index)\n",
    "position = 2\n",
    "\n",
    "# Check if the position is valid\n",
    "if position >= 0 and position <= len(a):\n",
    "    # Insert the number at the specified position\n",
    "    a.insert(position, number_to_insert)\n",
    "    print(f\"Inserted {number_to_insert} at position {position}.\")\n",
    "else:\n",
    "    print(\"Invalid position. Position should be between 0 and the length of the list.\")\n",
    "\n",
    "# Display the updated list\n",
    "print(\"Updated List:\", a)"
   ]
  },
  {
   "cell_type": "markdown",
   "id": "6f965290",
   "metadata": {},
   "source": [
    "# 8. Python program to delete an element froma list by index. "
   ]
  },
  {
   "cell_type": "code",
   "execution_count": 12,
   "id": "49e9d1f6",
   "metadata": {},
   "outputs": [
    {
     "name": "stdout",
     "output_type": "stream",
     "text": [
      "Deleted element at index 2.\n",
      "Updated List: [1, 2, 4, 5]\n"
     ]
    }
   ],
   "source": [
    "# Sample list\n",
    "a = [1, 2, 3, 4, 5]\n",
    "\n",
    "# Index of the element to delete\n",
    "index_to_delete = 2\n",
    "\n",
    "# Check if the index is valid\n",
    "if index_to_delete >= 0 and index_to_delete < len(a):\n",
    "    # Delete the element at the specified index\n",
    "    del a[index_to_delete]\n",
    "    print(f\"Deleted element at index {index_to_delete}.\")\n",
    "else:\n",
    "    print(\"Invalid index. Index should be between 0 and one less than the length of the list.\")\n",
    "\n",
    "# Display the updated list\n",
    "print(\"Updated List:\", a)"
   ]
  },
  {
   "cell_type": "markdown",
   "id": "e1faf28f",
   "metadata": {},
   "source": [
    "# 9.Write a program to display a number from 1 to 100. "
   ]
  },
  {
   "cell_type": "code",
   "execution_count": 13,
   "id": "2d502397",
   "metadata": {},
   "outputs": [
    {
     "name": "stdout",
     "output_type": "stream",
     "text": [
      "1\n",
      "2\n",
      "3\n",
      "4\n",
      "5\n",
      "6\n",
      "7\n",
      "8\n",
      "9\n",
      "10\n",
      "11\n",
      "12\n",
      "13\n",
      "14\n",
      "15\n",
      "16\n",
      "17\n",
      "18\n",
      "19\n",
      "20\n",
      "21\n",
      "22\n",
      "23\n",
      "24\n",
      "25\n",
      "26\n",
      "27\n",
      "28\n",
      "29\n",
      "30\n",
      "31\n",
      "32\n",
      "33\n",
      "34\n",
      "35\n",
      "36\n",
      "37\n",
      "38\n",
      "39\n",
      "40\n",
      "41\n",
      "42\n",
      "43\n",
      "44\n",
      "45\n",
      "46\n",
      "47\n",
      "48\n",
      "49\n",
      "50\n",
      "51\n",
      "52\n",
      "53\n",
      "54\n",
      "55\n",
      "56\n",
      "57\n",
      "58\n",
      "59\n",
      "60\n",
      "61\n",
      "62\n",
      "63\n",
      "64\n",
      "65\n",
      "66\n",
      "67\n",
      "68\n",
      "69\n",
      "70\n",
      "71\n",
      "72\n",
      "73\n",
      "74\n",
      "75\n",
      "76\n",
      "77\n",
      "78\n",
      "79\n",
      "80\n",
      "81\n",
      "82\n",
      "83\n",
      "84\n",
      "85\n",
      "86\n",
      "87\n",
      "88\n",
      "89\n",
      "90\n",
      "91\n",
      "92\n",
      "93\n",
      "94\n",
      "95\n",
      "96\n",
      "97\n",
      "98\n",
      "99\n",
      "100\n"
     ]
    }
   ],
   "source": [
    "# Display numbers from 1 to 100\n",
    "for number in range(1, 101):\n",
    "    print(number)"
   ]
  },
  {
   "cell_type": "markdown",
   "id": "ed20e345",
   "metadata": {},
   "source": [
    "# 10. Write a Python program to find the sum of all items in a tuple."
   ]
  },
  {
   "cell_type": "code",
   "execution_count": 14,
   "id": "1cc5da7e",
   "metadata": {},
   "outputs": [
    {
     "name": "stdout",
     "output_type": "stream",
     "text": [
      "Sum of all items in the tuple: 15\n"
     ]
    }
   ],
   "source": [
    "# Define a tuple\n",
    "z = (1, 2, 3, 4, 5)\n",
    "\n",
    "# Calculate the sum of all items in the tuple\n",
    "total_sum = sum(z)\n",
    "\n",
    "# Display the result\n",
    "print(\"Sum of all items in the tuple:\", total_sum)"
   ]
  },
  {
   "cell_type": "markdown",
   "id": "b31cce1d",
   "metadata": {},
   "source": [
    "# 12. A list of words is given. Find the words from the list that have their second character in uppercase.\n",
    "\n",
    "ls=['hello', 'Dear', 'hOw', 'ARe', 'You']"
   ]
  },
  {
   "cell_type": "code",
   "execution_count": 16,
   "id": "9a5f3556",
   "metadata": {},
   "outputs": [
    {
     "name": "stdout",
     "output_type": "stream",
     "text": [
      "Words with the second character in uppercase: ['hOw', 'ARe']\n"
     ]
    }
   ],
   "source": [
    "# List of words\n",
    "ls = ['hello', 'Dear', 'hOw', 'ARe', 'You']\n",
    "\n",
    "# Initialize a list to store words that meet the condition\n",
    "result_words = []\n",
    "\n",
    "# Iterate through the list\n",
    "for word in ls:\n",
    "    # Check if the word has at least two characters and the second character is uppercase\n",
    "    if len(word) >= 2 and word[1].isupper():\n",
    "        result_words.append(word)\n",
    "\n",
    "# Print the words that meet the condition\n",
    "print(\"Words with the second character in uppercase:\", result_words)"
   ]
  },
  {
   "cell_type": "markdown",
   "id": "25fcbf68",
   "metadata": {},
   "source": [
    "# CONTROL STRUCTURES"
   ]
  },
  {
   "cell_type": "markdown",
   "id": "b2283247",
   "metadata": {},
   "source": [
    "# 1. Write a python program to find the first N prime Numbers"
   ]
  },
  {
   "cell_type": "code",
   "execution_count": 18,
   "id": "3ecafa2b",
   "metadata": {},
   "outputs": [
    {
     "name": "stdout",
     "output_type": "stream",
     "text": [
      "Enter the value of N: 4\n",
      "The first 4 prime numbers are:\n",
      "[2, 3, 5, 7]\n"
     ]
    }
   ],
   "source": [
    "def is_prime(num):\n",
    "    if num <= 1:\n",
    "        return False\n",
    "    if num <= 3:\n",
    "        return True\n",
    "    if num % 2 == 0 or num % 3 == 0:\n",
    "        return False\n",
    "    i = 5\n",
    "    while i * i <= num:\n",
    "        if num % i == 0 or num % (i + 2) == 0:\n",
    "            return False\n",
    "        i += 6\n",
    "    return True\n",
    "\n",
    "def find_primes(n):\n",
    "    prime_list = []\n",
    "    num = 2\n",
    "    while len(prime_list) < n:\n",
    "        if is_prime(num):\n",
    "            prime_list.append(num)\n",
    "        num += 1\n",
    "    return prime_list\n",
    "\n",
    "# Input: N (number of prime numbers to find)\n",
    "N = int(input(\"Enter the value of N: \"))\n",
    "\n",
    "if N <= 0:\n",
    "    print(\"N must be a positive integer.\")\n",
    "else:\n",
    "    prime_numbers = find_primes(N)\n",
    "    print(f\"The first {N} prime numbers are:\")\n",
    "    print(prime_numbers)"
   ]
  },
  {
   "cell_type": "markdown",
   "id": "ea476e6f",
   "metadata": {},
   "source": [
    "# 2. Write a Python code that calculates the salary of an employee. Prompt the user to enter the Basic Salary, HRA, TA, DA. Add these components to calculate the Gross Salary. Also deduct 10% of salary from the gross salary to be paid as a tax and display gross minus tax as net salary. "
   ]
  },
  {
   "cell_type": "code",
   "execution_count": 19,
   "id": "a7e3efee",
   "metadata": {},
   "outputs": [
    {
     "name": "stdout",
     "output_type": "stream",
     "text": [
      "Enter Basic Salary: 50000\n",
      "Enter HRA: 2000\n",
      "Enter TA: 5000\n",
      "Enter DA: 1000\n",
      "Gross Salary: 58000.0\n",
      "Tax Deducted (10% of Gross Salary): 5800.0\n",
      "Net Salary: 52200.0\n"
     ]
    }
   ],
   "source": [
    "# Prompt the user to enter the Basic Salary, HRA, TA, and DA\n",
    "basic_salary = float(input(\"Enter Basic Salary: \"))\n",
    "hra = float(input(\"Enter HRA: \"))\n",
    "ta = float(input(\"Enter TA: \"))\n",
    "da = float(input(\"Enter DA: \"))\n",
    "\n",
    "# Calculate Gross Salary by adding Basic Salary, HRA, TA, and DA\n",
    "gross_salary = basic_salary + hra + ta + da\n",
    "\n",
    "# Calculate Tax (10% of Gross Salary)\n",
    "tax = 0.10 * gross_salary\n",
    "\n",
    "# Calculate Net Salary (Gross Salary - Tax)\n",
    "net_salary = gross_salary - tax\n",
    "\n",
    "# Display the results\n",
    "print(\"Gross Salary:\", gross_salary)\n",
    "print(\"Tax Deducted (10% of Gross Salary):\", tax)\n",
    "print(\"Net Salary:\", net_salary)"
   ]
  },
  {
   "cell_type": "markdown",
   "id": "95a2d521",
   "metadata": {},
   "source": [
    "# 3.Write a Python program to search for a given string in the list"
   ]
  },
  {
   "cell_type": "code",
   "execution_count": 21,
   "id": "ff21da6d",
   "metadata": {},
   "outputs": [
    {
     "name": "stdout",
     "output_type": "stream",
     "text": [
      "Enter a string to search for: apple\n",
      "'apple' was found in the list.\n"
     ]
    }
   ],
   "source": [
    "# Sample list of strings\n",
    "string_list = [\"apple\", \"banana\", \"cherry\", \"date\", \"fig\"]\n",
    "\n",
    "# Prompt the user to enter a string to search for\n",
    "search_string = input(\"Enter a string to search for: \")\n",
    "\n",
    "# Initialize a flag to track if the string is found\n",
    "found = False\n",
    "\n",
    "# Iterate through the list to search for the string\n",
    "for item in string_list:\n",
    "    if search_string.lower() == item.lower():\n",
    "        found = True\n",
    "        break\n",
    "\n",
    "# Check if the string was found and display the result\n",
    "if found:\n",
    "    print(f\"'{search_string}' was found in the list.\")\n",
    "else:\n",
    "    print(f\"'{search_string}' was not found in the list.\")"
   ]
  },
  {
   "cell_type": "markdown",
   "id": "15cbe7e6",
   "metadata": {},
   "source": [
    "# 4. Write a Python function that accepts a string and calculates the number of upper and lower case letters. "
   ]
  },
  {
   "cell_type": "code",
   "execution_count": 22,
   "id": "e6a36b90",
   "metadata": {},
   "outputs": [
    {
     "name": "stdout",
     "output_type": "stream",
     "text": [
      "Enter a string: wInTer bEAR\n",
      "Number of uppercase letters: 5\n",
      "Number of lowercase letters: 5\n"
     ]
    }
   ],
   "source": [
    "def count_upper_lower_case_letters(input_string):\n",
    "    # Initialize counters for uppercase and lowercase letters\n",
    "    uppercase_count = 0\n",
    "    lowercase_count = 0\n",
    "\n",
    "    # Iterate through each character in the input string\n",
    "    for char in input_string:\n",
    "        if char.isupper():\n",
    "            uppercase_count += 1\n",
    "        elif char.islower():\n",
    "            lowercase_count += 1\n",
    "\n",
    "    # Return the counts\n",
    "    return uppercase_count, lowercase_count\n",
    "\n",
    "# Example usage\n",
    "input_str = input(\"Enter a string: \")\n",
    "uppercase, lowercase = count_upper_lower_case_letters(input_str)\n",
    "\n",
    "print(\"Number of uppercase letters:\", uppercase)\n",
    "print(\"Number of lowercase letters:\", lowercase)"
   ]
  },
  {
   "cell_type": "markdown",
   "id": "7437afc9",
   "metadata": {},
   "source": [
    "# 5. Write a program to display the sum of odd numbers and even numbers that fall between 12 and 37."
   ]
  },
  {
   "cell_type": "code",
   "execution_count": 23,
   "id": "8024bfdd",
   "metadata": {},
   "outputs": [
    {
     "name": "stdout",
     "output_type": "stream",
     "text": [
      "Sum of even numbers between 12 and 37: 312\n",
      "Sum of odd numbers between 12 and 37: 325\n"
     ]
    }
   ],
   "source": [
    "# Initialize variables to store the sum of odd and even numbers\n",
    "sum_odd = 0\n",
    "sum_even = 0\n",
    "\n",
    "# Iterate through numbers from 12 to 37 (inclusive)\n",
    "for num in range(12, 38):\n",
    "    if num % 2 == 0:  # Check if the number is even\n",
    "        sum_even += num\n",
    "    else:\n",
    "        sum_odd += num\n",
    "\n",
    "# Display the sums\n",
    "print(\"Sum of even numbers between 12 and 37:\", sum_even)\n",
    "print(\"Sum of odd numbers between 12 and 37:\", sum_odd)"
   ]
  },
  {
   "cell_type": "markdown",
   "id": "6ca74a1a",
   "metadata": {},
   "source": [
    "# 6. Write a Python program to print the table of any number."
   ]
  },
  {
   "cell_type": "code",
   "execution_count": 24,
   "id": "36f65d5a",
   "metadata": {},
   "outputs": [
    {
     "name": "stdout",
     "output_type": "stream",
     "text": [
      "Enter a number: 45\n",
      "Table of 45:\n",
      "45 x 1 = 45\n",
      "45 x 2 = 90\n",
      "45 x 3 = 135\n",
      "45 x 4 = 180\n",
      "45 x 5 = 225\n",
      "45 x 6 = 270\n",
      "45 x 7 = 315\n",
      "45 x 8 = 360\n",
      "45 x 9 = 405\n",
      "45 x 10 = 450\n"
     ]
    }
   ],
   "source": [
    "# Prompt the user to enter a number\n",
    "number = int(input(\"Enter a number: \"))\n",
    "\n",
    "# Print the table of the entered number (up to a certain limit, e.g., 10)\n",
    "print(f\"Table of {number}:\")\n",
    "\n",
    "# Use a loop to calculate and print the table\n",
    "for i in range(1, 11):\n",
    "    result = number * i\n",
    "    print(f\"{number} x {i} = {result}\")"
   ]
  },
  {
   "cell_type": "markdown",
   "id": "cb5967a4",
   "metadata": {},
   "source": [
    "# 7. Write a Python Program to sum the first 10 prime numbers. "
   ]
  },
  {
   "cell_type": "code",
   "execution_count": 25,
   "id": "cd919424",
   "metadata": {},
   "outputs": [
    {
     "name": "stdout",
     "output_type": "stream",
     "text": [
      "Sum of the first 10 prime numbers: 129\n"
     ]
    }
   ],
   "source": [
    "def is_prime(num):\n",
    "    if num <= 1:\n",
    "        return False\n",
    "    if num <= 3:\n",
    "        return True\n",
    "    if num % 2 == 0 or num % 3 == 0:\n",
    "        return False\n",
    "    i = 5\n",
    "    while i * i <= num:\n",
    "        if num % i == 0 or num % (i + 2) == 0:\n",
    "            return False\n",
    "        i += 6\n",
    "    return True\n",
    "\n",
    "count = 0\n",
    "num = 2\n",
    "sum_primes = 0\n",
    "\n",
    "while count < 10:\n",
    "    if is_prime(num):\n",
    "        sum_primes += num\n",
    "        count += 1\n",
    "    num += 1\n",
    "\n",
    "print(\"Sum of the first 10 prime numbers:\", sum_primes)"
   ]
  },
  {
   "cell_type": "markdown",
   "id": "dbda7d90",
   "metadata": {},
   "source": [
    "# 8. Write a Python Program to implement airthametic operations using nested if statements. "
   ]
  },
  {
   "cell_type": "code",
   "execution_count": 26,
   "id": "072aafcb",
   "metadata": {},
   "outputs": [
    {
     "name": "stdout",
     "output_type": "stream",
     "text": [
      "Enter the first number: 23\n",
      "Enter the second number: 12\n",
      "Choose an operation:\n",
      "1. Addition (+)\n",
      "2. Subtraction (-)\n",
      "3. Multiplication (*)\n",
      "4. Division (/)\n",
      "Enter your choice (1/2/3/4): 3\n",
      "Multiplication result: 276.0\n"
     ]
    }
   ],
   "source": [
    "# Prompt the user to enter two numbers\n",
    "num1 = float(input(\"Enter the first number: \"))\n",
    "num2 = float(input(\"Enter the second number: \"))\n",
    "\n",
    "# Prompt the user to choose an operation\n",
    "print(\"Choose an operation:\")\n",
    "print(\"1. Addition (+)\")\n",
    "print(\"2. Subtraction (-)\")\n",
    "print(\"3. Multiplication (*)\")\n",
    "print(\"4. Division (/)\")\n",
    "choice = input(\"Enter your choice (1/2/3/4): \")\n",
    "\n",
    "# Use nested if statements to perform the selected operation\n",
    "if choice == '1':\n",
    "    result = num1 + num2\n",
    "    operation = \"Addition\"\n",
    "elif choice == '2':\n",
    "    result = num1 - num2\n",
    "    operation = \"Subtraction\"\n",
    "elif choice == '3':\n",
    "    result = num1 * num2\n",
    "    operation = \"Multiplication\"\n",
    "elif choice == '4':\n",
    "    if num2 == 0:\n",
    "        print(\"Error: Division by zero is not allowed.\")\n",
    "    else:\n",
    "        result = num1 / num2\n",
    "        operation = \"Division\"\n",
    "else:\n",
    "    print(\"Invalid choice.\")\n",
    "    result = None\n",
    "\n",
    "# Display the result of the selected operation\n",
    "if result is not None:\n",
    "    print(f\"{operation} result: {result}\")"
   ]
  },
  {
   "cell_type": "markdown",
   "id": "8d3a2317",
   "metadata": {},
   "source": [
    "# 9. Write a Python Program to Take the temperature in celcius and convert it to Fahrenheit. "
   ]
  },
  {
   "cell_type": "code",
   "execution_count": 28,
   "id": "a69c775b",
   "metadata": {},
   "outputs": [
    {
     "name": "stdout",
     "output_type": "stream",
     "text": [
      "Enter temperature in Celsius: 36\n",
      "36.0 degrees Celsius is equal to 96.80 degrees Fahrenheit.\n"
     ]
    }
   ],
   "source": [
    "# Prompt the user to enter the temperature in Celsius\n",
    "celsius = float(input(\"Enter temperature in Celsius: \"))\n",
    "\n",
    "# Convert Celsius to Fahrenheit\n",
    "fahrenheit = (celsius * 9/5) + 32\n",
    "\n",
    "# Display the temperature in Fahrenheit\n",
    "print(f\"{celsius} degrees Celsius is equal to {fahrenheit:.2f} degrees Fahrenheit.\")"
   ]
  },
  {
   "cell_type": "markdown",
   "id": "b894b551",
   "metadata": {},
   "source": [
    "# 10. Write a Python Program to find the max and min number in a list without using an inbuilt function. "
   ]
  },
  {
   "cell_type": "code",
   "execution_count": 29,
   "id": "d9aa0a81",
   "metadata": {},
   "outputs": [
    {
     "name": "stdout",
     "output_type": "stream",
     "text": [
      "Maximum number: 53\n",
      "Minimum number: 6\n"
     ]
    }
   ],
   "source": [
    "# Sample list of numbers\n",
    "numbers = [25, 10, 45, 6, 37, 53, 18]\n",
    "\n",
    "# Initialize variables to store the maximum and minimum\n",
    "max_num = numbers[0]\n",
    "min_num = numbers[0]\n",
    "\n",
    "# Iterate through the list to find the maximum and minimum\n",
    "for num in numbers:\n",
    "    if num > max_num:\n",
    "        max_num = num\n",
    "    elif num < min_num:\n",
    "        min_num = num\n",
    "\n",
    "# Display the maximum and minimum numbers\n",
    "print(\"Maximum number:\", max_num)\n",
    "print(\"Minimum number:\", min_num)"
   ]
  },
  {
   "cell_type": "markdown",
   "id": "ad4374da",
   "metadata": {},
   "source": [
    "# 11. Write a Python Program to print out the number of seconds in 30 day month 30 days, 24 hours in a day, 60 mins per day, 60 second per min. "
   ]
  },
  {
   "cell_type": "code",
   "execution_count": 30,
   "id": "37ffbae6",
   "metadata": {},
   "outputs": [
    {
     "name": "stdout",
     "output_type": "stream",
     "text": [
      "Number of seconds in a 30-day month: 2592000 seconds\n"
     ]
    }
   ],
   "source": [
    "# Define the number of days, hours, minutes, and seconds\n",
    "days = 30\n",
    "hours_per_day = 24\n",
    "minutes_per_hour = 60\n",
    "seconds_per_minute = 60\n",
    "\n",
    "# Calculate the total number of seconds\n",
    "total_seconds = days * hours_per_day * minutes_per_hour * seconds_per_minute\n",
    "\n",
    "# Display the result\n",
    "print(f\"Number of seconds in a {days}-day month: {total_seconds} seconds\")"
   ]
  },
  {
   "cell_type": "markdown",
   "id": "d46d6206",
   "metadata": {},
   "source": [
    "# 12. Write a Python Program to print out the number of seconds in a year. "
   ]
  },
  {
   "cell_type": "code",
   "execution_count": 31,
   "id": "9f3592fa",
   "metadata": {},
   "outputs": [
    {
     "name": "stdout",
     "output_type": "stream",
     "text": [
      "Number of seconds in a year: 31536000 seconds\n"
     ]
    }
   ],
   "source": [
    "# Define the number of days, hours per day, minutes per hour, and seconds per minute in a year\n",
    "days_per_year = 365\n",
    "hours_per_day = 24\n",
    "minutes_per_hour = 60\n",
    "seconds_per_minute = 60\n",
    "\n",
    "# Calculate the total number of seconds in a year\n",
    "total_seconds_in_year = days_per_year * hours_per_day * minutes_per_hour * seconds_per_minute\n",
    "\n",
    "# Display the result\n",
    "print(f\"Number of seconds in a year: {total_seconds_in_year} seconds\")"
   ]
  },
  {
   "cell_type": "markdown",
   "id": "edf6061a",
   "metadata": {},
   "source": [
    "# 13. A high speed train can travel at an avg speed of 150 mph, how long will it take a train travelling at this speed to travel from Londen to Glasgow which is 414 miles away. "
   ]
  },
  {
   "cell_type": "code",
   "execution_count": 32,
   "id": "c2eeb1c0",
   "metadata": {},
   "outputs": [
    {
     "name": "stdout",
     "output_type": "stream",
     "text": [
      "It will take 2.76 hours to travel from London to Glasgow.\n"
     ]
    }
   ],
   "source": [
    "# Define the distance in miles and the average speed in mph\n",
    "distance_miles = 414\n",
    "average_speed_mph = 150\n",
    "\n",
    "# Calculate the time in hours\n",
    "time_hours = distance_miles / average_speed_mph\n",
    "\n",
    "# Display the result\n",
    "print(f\"It will take {time_hours:.2f} hours to travel from London to Glasgow.\")"
   ]
  },
  {
   "cell_type": "markdown",
   "id": "2c0d110c",
   "metadata": {},
   "source": [
    "# 14.Write a Python Program that defines a variable called days_in_each_school_year and assign 192 to variable. The program should then print out the total hours that you spend in school from year 7 to year 11. if each day you spend 6 hours in school day_in_each_school_year = 192. "
   ]
  },
  {
   "cell_type": "code",
   "execution_count": 33,
   "id": "ec94bd25",
   "metadata": {},
   "outputs": [
    {
     "name": "stdout",
     "output_type": "stream",
     "text": [
      "Total hours spent in school from year 7 to year 11: 5760 hours\n"
     ]
    }
   ],
   "source": [
    "# Define the number of days in each school year\n",
    "days_in_each_school_year = 192\n",
    "\n",
    "# Define the number of school years\n",
    "school_years = 5\n",
    "\n",
    "# Define the number of hours spent in school per day\n",
    "hours_per_day = 6\n",
    "\n",
    "# Calculate the total hours spent in school\n",
    "total_hours_spent = days_in_each_school_year * school_years * hours_per_day\n",
    "\n",
    "# Print the result\n",
    "print(f\"Total hours spent in school from year 7 to year 11: {total_hours_spent} hours\")"
   ]
  },
  {
   "cell_type": "markdown",
   "id": "aa41f308",
   "metadata": {},
   "source": [
    "# 15. If the ages of Ram, Sam and Khan are input through the keyboard, write a python program to determine the eldest and the youngest of the three. "
   ]
  },
  {
   "cell_type": "code",
   "execution_count": 36,
   "id": "034b0926",
   "metadata": {},
   "outputs": [
    {
     "name": "stdout",
     "output_type": "stream",
     "text": [
      "Enter the age of Ram: 12\n",
      "Enter the age of Sam: 11\n",
      "Enter the age of Khan: 10\n",
      "The eldest among Ram, Sam, and Khan is: Ram\n",
      "The youngest among Ram, Sam, and Khan is: Khan\n"
     ]
    }
   ],
   "source": [
    "# Prompt the user to enter the ages of Ram, Sam, and Khan\n",
    "ram_age = int(input(\"Enter the age of Ram: \"))\n",
    "sam_age = int(input(\"Enter the age of Sam: \"))\n",
    "khan_age = int(input(\"Enter the age of Khan: \"))\n",
    "\n",
    "# Find the eldest and youngest using if statements\n",
    "if ram_age >= sam_age and ram_age >= khan_age:\n",
    "    eldest = \"Ram\"\n",
    "elif sam_age >= ram_age and sam_age >= khan_age:\n",
    "    eldest = \"Sam\"\n",
    "else:\n",
    "    eldest = \"Khan\"\n",
    "\n",
    "if ram_age <= sam_age and ram_age <= khan_age:\n",
    "    youngest = \"Ram\"\n",
    "elif sam_age <= ram_age and sam_age <= khan_age:\n",
    "    youngest = \"Sam\"\n",
    "else:\n",
    "    youngest = \"Khan\"\n",
    "\n",
    "# Display the result\n",
    "print(f\"The eldest among Ram, Sam, and Khan is: {eldest}\")\n",
    "print(f\"The youngest among Ram, Sam, and Khan is: {youngest}\")"
   ]
  }
 ],
 "metadata": {
  "kernelspec": {
   "display_name": "Python 3 (ipykernel)",
   "language": "python",
   "name": "python3"
  },
  "language_info": {
   "codemirror_mode": {
    "name": "ipython",
    "version": 3
   },
   "file_extension": ".py",
   "mimetype": "text/x-python",
   "name": "python",
   "nbconvert_exporter": "python",
   "pygments_lexer": "ipython3",
   "version": "3.11.4"
  }
 },
 "nbformat": 4,
 "nbformat_minor": 5
}
